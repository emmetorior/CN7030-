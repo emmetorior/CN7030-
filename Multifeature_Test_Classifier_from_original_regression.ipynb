{
  "nbformat": 4,
  "nbformat_minor": 0,
  "metadata": {
    "colab": {
      "provenance": [],
      "authorship_tag": "ABX9TyMPLCmWxIQGL3L8SLD4K1Rj",
      "include_colab_link": true
    },
    "kernelspec": {
      "name": "python3",
      "display_name": "Python 3"
    },
    "language_info": {
      "name": "python"
    }
  },
  "cells": [
    {
      "cell_type": "markdown",
      "metadata": {
        "id": "view-in-github",
        "colab_type": "text"
      },
      "source": [
        "<a href=\"https://colab.research.google.com/github/emmetorior/CN7030-/blob/main/Multifeature_Test_Classifier_from_original_regression.ipynb\" target=\"_parent\"><img src=\"https://colab.research.google.com/assets/colab-badge.svg\" alt=\"Open In Colab\"/></a>"
      ]
    },
    {
      "cell_type": "code",
      "execution_count": null,
      "metadata": {
        "id": "UZTfkHHoYJgk",
        "colab": {
          "base_uri": "https://localhost:8080/"
        },
        "outputId": "a91d60b1-6a77-44e3-e845-277aa9f4286c"
      },
      "outputs": [
        {
          "output_type": "stream",
          "name": "stdout",
          "text": [
            "Requirement already satisfied: pyspark in /usr/local/lib/python3.10/dist-packages (3.5.3)\n",
            "Requirement already satisfied: pandas in /usr/local/lib/python3.10/dist-packages (2.2.2)\n",
            "Requirement already satisfied: numpy in /usr/local/lib/python3.10/dist-packages (1.26.4)\n",
            "Requirement already satisfied: py4j==0.10.9.7 in /usr/local/lib/python3.10/dist-packages (from pyspark) (0.10.9.7)\n",
            "Requirement already satisfied: python-dateutil>=2.8.2 in /usr/local/lib/python3.10/dist-packages (from pandas) (2.8.2)\n",
            "Requirement already satisfied: pytz>=2020.1 in /usr/local/lib/python3.10/dist-packages (from pandas) (2024.2)\n",
            "Requirement already satisfied: tzdata>=2022.7 in /usr/local/lib/python3.10/dist-packages (from pandas) (2024.2)\n",
            "Requirement already satisfied: six>=1.5 in /usr/local/lib/python3.10/dist-packages (from python-dateutil>=2.8.2->pandas) (1.16.0)\n"
          ]
        }
      ],
      "source": [
        "!pip install pyspark pandas numpy"
      ]
    },
    {
      "cell_type": "code",
      "source": [
        "from pyspark.sql import SparkSession\n",
        "# Importing package\n",
        "from pyspark.sql.functions import (\n",
        "    expr, col, lag, lead, window, stddev, mean, first, last,\n",
        "    when, isnan, count, dayofmonth, month, year, to_date, udf\n",
        ")\n",
        "import pyspark.sql.functions as F\n",
        "from pyspark.ml.linalg import Vectors\n",
        "from pyspark.sql.window import Window\n",
        "from pyspark.ml.feature import VectorAssembler, StringIndexer\n",
        "from pyspark.ml.classification import LogisticRegression\n",
        "from pyspark.ml.evaluation import MulticlassClassificationEvaluator\n",
        "from pyspark.sql.types import StructType, StructField, DoubleType, StringType\n",
        "from pyspark.sql.functions import udf\n",
        "import pyspark.sql.functions as F\n",
        "import pandas as pd\n",
        "import numpy as np\n"
      ],
      "metadata": {
        "id": "dyKTx-A5q8uE"
      },
      "execution_count": 1,
      "outputs": []
    },
    {
      "cell_type": "code",
      "source": [
        "\n",
        "# Create Spark Session\n",
        "spark = SparkSession.builder.appName(\"CN7030 Assn 1 - Stock Price Classifier\").getOrCreate()\n",
        "\n",
        "# Define an explicit schema to ensure consistent types\n",
        "schema = StructType([\n",
        "    StructField(\"open\", DoubleType(), True),\n",
        "    StructField(\"close\", DoubleType(), True),\n",
        "    StructField(\"high\", DoubleType(), True),\n",
        "    StructField(\"low\", DoubleType(), True),\n",
        "    StructField(\"volume\", DoubleType(), True),\n",
        "    StructField(\"price_change_percentage\", DoubleType(), True)\n",
        "])\n",
        "\n",
        "# Sample stock data with consistent double types\n",
        "data = [\n",
        "    (100.0, 102.0, 103.0, 99.0, 1000000.0, 2.5),\n",
        "    (95.0, 93.0, 96.0, 92.0, 800000.0, -3.0),\n",
        "    (110.0, 108.0, 112.0, 107.0, 1200000.0, -1.0),\n",
        "    (105.0, 107.0, 108.0, 104.0, 950000.0, 1.5)\n",
        "]\n",
        "\n",
        "\n",
        "# Create DataFrame\n",
        "#df = spark.createDataFrame(data)\n",
        "df = spark.createDataFrame(data, schema=schema)\n",
        "\n",
        "# Create label column\n",
        "df = df.withColumn('price_change_label',\n",
        "    when(col('price_change_percentage') < -2, 'low')\n",
        "    .when((col('price_change_percentage') >= -2) & (col('price_change_percentage') < 2), 'medium')\n",
        "    .otherwise('high')\n",
        ")\n"
      ],
      "metadata": {
        "id": "wRQ0HcjGsoEU"
      },
      "execution_count": 2,
      "outputs": []
    },
    {
      "cell_type": "code",
      "source": [
        "\n",
        "# Prepare features\n",
        "feature_columns = ['open', 'close', 'high', 'low', 'volume']\n",
        "assembler = VectorAssembler(\n",
        "    inputCols=feature_columns,\n",
        "    outputCol='features'\n",
        ")\n",
        "prepared_df = assembler.transform(df)\n",
        "\n",
        "# Index labels\n",
        "label_indexer = StringIndexer(\n",
        "    inputCol='price_change_label',\n",
        "    outputCol='label'\n",
        ")\n",
        "prepared_df = label_indexer.fit(prepared_df).transform(prepared_df)\n",
        "\n",
        "# Split data\n",
        "(train_data, test_data) = prepared_df.select('features', 'label').randomSplit([0.7, 0.3], seed=42)\n",
        "\n",
        "# Train the Logistic Regression with max 10 iterations\n",
        "lr = LogisticRegression(\n",
        "    maxIter=10,\n",
        "    regParam=0.3,\n",
        "    elasticNetParam=0.8,\n",
        "    labelCol='label',\n",
        "    featuresCol='features'\n",
        ")\n",
        "model = lr.fit(train_data)\n",
        "\n",
        "# Evaluate the model\n",
        "predictions = model.transform(test_data)\n",
        "evaluator = MulticlassClassificationEvaluator(\n",
        "    labelCol='label',\n",
        "    predictionCol='prediction',\n",
        "    metricName='accuracy'\n",
        ")\n",
        "accuracy = evaluator.evaluate(predictions)\n",
        "print(f\"Model Accuracy: {accuracy}\")\n",
        "\n",
        "\n"
      ],
      "metadata": {
        "colab": {
          "base_uri": "https://localhost:8080/"
        },
        "id": "oextaRePtRIf",
        "outputId": "86b1b7e3-8780-4393-bffc-028283b4059b"
      },
      "execution_count": null,
      "outputs": [
        {
          "output_type": "stream",
          "name": "stdout",
          "text": [
            "Model Accuracy: 1.0\n"
          ]
        }
      ]
    },
    {
      "cell_type": "code",
      "source": [
        "# replace original columns here - like in the previous one. I just wrote this app with reduced features to make it easier to create.\n",
        "prepared_df = prepared_df.withColumn('open', col('open')) \\\n",
        "    .withColumn('close', col('close')) \\\n",
        "    .withColumn('price_change_percentage', col('price_change_percentage')) \\\n",
        "    .withColumn('price_change_label', col('price_change_label'))\n",
        "\n",
        "# Split into training and test sets\n",
        "(train_data, test_data) = prepared_df.randomSplit([0.7, 0.3], seed=42)\n",
        "\n",
        "# Training the log reg\n",
        "lr = LogisticRegression(\n",
        "    maxIter=10,\n",
        "    regParam=0.3,\n",
        "    elasticNetParam=0.8,\n",
        "    labelCol='label',\n",
        "    featuresCol='features'\n",
        ")\n",
        "model = lr.fit(train_data)\n",
        "\n",
        "# predict\n",
        "predictions = model.transform(test_data)\n",
        "\n",
        "# Defines the values - change this later, because we want a different type of label...\n",
        "def map_prediction_to_label(prediction):\n",
        "    if prediction == 0:\n",
        "        return 'low'\n",
        "    elif prediction == 1:\n",
        "        return 'medium'\n",
        "    else:\n",
        "        return 'high'\n",
        "\n",
        "# map prediction - user defined func ..\n",
        "map_prediction_udf = udf(map_prediction_to_label, StringType())\n",
        "\n",
        "# Use the UDF in the DataFrame\n",
        "results_df = predictions.select(\n",
        "    'open',\n",
        "    'close',\n",
        "    #\n",
        "    'price_change_percentage',\n",
        "    'price_change_label',\n",
        "    # put prediction here?\n",
        "    'prediction',\n",
        "    map_prediction_udf(col('prediction')).alias('predicted_label')\n",
        ")\n",
        "\n",
        "# Display results\n",
        "results_df.show()"
      ],
      "metadata": {
        "colab": {
          "base_uri": "https://localhost:8080/"
        },
        "id": "YY8nNMC15DkZ",
        "outputId": "db3aad2c-0796-46cf-939c-fc1bc6f4876e"
      },
      "execution_count": null,
      "outputs": [
        {
          "output_type": "stream",
          "name": "stdout",
          "text": [
            "+-----+-----+-----------------------+------------------+----------+---------------+\n",
            "| open|close|price_change_percentage|price_change_label|prediction|predicted_label|\n",
            "+-----+-----+-----------------------+------------------+----------+---------------+\n",
            "|105.0|107.0|                    1.5|            medium|       0.0|            low|\n",
            "+-----+-----+-----------------------+------------------+----------+---------------+\n",
            "\n"
          ]
        }
      ]
    },
    {
      "cell_type": "code",
      "source": [
        "\n",
        "# Define the mapping function\n",
        "def map_prediction_to_label(prediction):\n",
        "    if prediction == 0:\n",
        "        return 'low'\n",
        "    elif prediction == 1:\n",
        "        return 'medium'\n",
        "    else:\n",
        "        return 'high'\n",
        "\n",
        "# Register the function as a UDF\n",
        "map_prediction_udf = udf(map_prediction_to_label, StringType())\n",
        "\n",
        "# Use the UDF in the DataFrame\n",
        "results_df = predictions.select(\n",
        "    'open',\n",
        "    'close',\n",
        "    'price_change_percentage',\n",
        "    'price_change_label',\n",
        "    'prediction',\n",
        "    map_prediction_udf(col('prediction')).alias('predicted_label')\n",
        ")\n",
        "\n",
        "# Display results\n",
        "results_df.show()"
      ],
      "metadata": {
        "colab": {
          "base_uri": "https://localhost:8080/"
        },
        "id": "6P_D-oE7vSIA",
        "outputId": "5dbddff7-e281-4779-cae9-a81c84739b79"
      },
      "execution_count": null,
      "outputs": [
        {
          "output_type": "stream",
          "name": "stdout",
          "text": [
            "+-----+-----+-----------------------+------------------+----------+---------------+\n",
            "| open|close|price_change_percentage|price_change_label|prediction|predicted_label|\n",
            "+-----+-----+-----------------------+------------------+----------+---------------+\n",
            "|105.0|107.0|                    1.5|            medium|       0.0|            low|\n",
            "+-----+-----+-----------------------+------------------+----------+---------------+\n",
            "\n"
          ]
        }
      ]
    }
  ]
}