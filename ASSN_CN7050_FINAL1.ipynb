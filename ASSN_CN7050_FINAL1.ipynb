{
  "cells": [
    {
      "cell_type": "markdown",
      "metadata": {
        "id": "view-in-github",
        "colab_type": "text"
      },
      "source": [
        "<a href=\"https://colab.research.google.com/github/emmetorior/CN7030-/blob/main/ASSN_CN7050_FINAL1.ipynb\" target=\"_parent\"><img src=\"https://colab.research.google.com/assets/colab-badge.svg\" alt=\"Open In Colab\"/></a>"
      ]
    },
    {
      "cell_type": "code",
      "execution_count": 19,
      "metadata": {
        "colab": {
          "base_uri": "https://localhost:8080/"
        },
        "id": "ydLyxVtJ6Kvu",
        "outputId": "6a23d284-d763-4f40-bef1-9ac113d8935c"
      },
      "outputs": [
        {
          "output_type": "stream",
          "name": "stdout",
          "text": [
            "Requirement already satisfied: findspark in /usr/local/lib/python3.11/dist-packages (2.0.1)\n",
            "Requirement already satisfied: pyspark in /usr/local/lib/python3.11/dist-packages (3.5.5)\n",
            "Requirement already satisfied: pyarrow in /usr/local/lib/python3.11/dist-packages (19.0.1)\n",
            "Requirement already satisfied: pandas in /usr/local/lib/python3.11/dist-packages (2.2.3)\n",
            "Requirement already satisfied: py4j==0.10.9.7 in /usr/local/lib/python3.11/dist-packages (from pyspark) (0.10.9.7)\n",
            "Requirement already satisfied: numpy>=1.23.2 in /usr/local/lib/python3.11/dist-packages (from pandas) (1.26.4)\n",
            "Requirement already satisfied: python-dateutil>=2.8.2 in /usr/local/lib/python3.11/dist-packages (from pandas) (2.8.2)\n",
            "Requirement already satisfied: pytz>=2020.1 in /usr/local/lib/python3.11/dist-packages (from pandas) (2025.1)\n",
            "Requirement already satisfied: tzdata>=2022.7 in /usr/local/lib/python3.11/dist-packages (from pandas) (2025.1)\n",
            "Requirement already satisfied: six>=1.5 in /usr/local/lib/python3.11/dist-packages (from python-dateutil>=2.8.2->pandas) (1.17.0)\n"
          ]
        }
      ],
      "source": [
        "!pip install findspark\n",
        "!pip install --upgrade pyspark pyarrow pandas\n",
        "from google.colab import drive"
      ]
    },
    {
      "cell_type": "code",
      "execution_count": 20,
      "metadata": {
        "id": "BXoMU4N61zyF"
      },
      "outputs": [],
      "source": [
        "import pandas as pd\n",
        "import pyspark\n",
        "import pyarrow as pa\n",
        "import numpy as np\n",
        "from pyspark.sql import SparkSession\n",
        "from pyspark.sql.functions import array_contains\n",
        "from pyspark.sql.functions import col, explode, split, array, lit\n",
        "from pyspark.ml.feature import CountVectorizer, IDF\n",
        "import ast\n"
      ]
    },
    {
      "cell_type": "markdown",
      "metadata": {
        "id": "nct0uoTBAfqX"
      },
      "source": [
        "Check Files Exist and Are Readable.\n",
        "\n",
        "1.   List item\n",
        "2.   List item\n",
        "\n",
        "\n",
        "```\n",
        "# This is formatted as code\n",
        "```\n",
        "\n"
      ]
    },
    {
      "cell_type": "code",
      "execution_count": 21,
      "metadata": {
        "colab": {
          "base_uri": "https://localhost:8080/"
        },
        "id": "8njwXTOmAR0C",
        "outputId": "c45e3525-ae86-4b71-c0d4-6a25ef5d84ba"
      },
      "outputs": [
        {
          "output_type": "stream",
          "name": "stdout",
          "text": [
            "True\n",
            "True\n",
            "True\n"
          ]
        }
      ],
      "source": [
        "import os\n",
        "parquet_validation_file = \"/content/drive/MyDrive/Colab Notebooks/CN7050/validation-00000-of-00001.parquet\"\n",
        "print(os.path.exists(parquet_validation_file))\n",
        "\n",
        "parquet_test_file = \"/content/drive/MyDrive/Colab Notebooks/CN7050/test-00000-of-00001.parquet\"\n",
        "print(os.path.exists(parquet_test_file))\n",
        "\n",
        "parquet_train_file = \"/content/drive/MyDrive/Colab Notebooks/CN7050/train-00000-of-00001.parquet\"\n",
        "print(os.path.exists(parquet_train_file))"
      ]
    },
    {
      "cell_type": "markdown",
      "metadata": {
        "id": "rcjt7dWfOWWL"
      },
      "source": [
        "Load files into Spark. We have a train, test and validation file. Each one is loaded in from the parquet downloaded from huggingface.co"
      ]
    },
    {
      "cell_type": "markdown",
      "metadata": {
        "id": "eaV1SHPcMhKj"
      },
      "source": [
        "SET UP A SPARK SESSION AND SET OPTIONS"
      ]
    },
    {
      "cell_type": "code",
      "execution_count": 22,
      "metadata": {
        "id": "w14Dd0wJMc7U"
      },
      "outputs": [],
      "source": [
        "spark = SparkSession.Builder().master(\"local[*]\").getOrCreate()\n",
        "spark.conf.set(\"spark.sql.parquet.mergeSchema\", \"false\")\n",
        "spark.conf.set(\"spark.sql.parquet.binaryAsString\", \"true\")"
      ]
    },
    {
      "cell_type": "code",
      "execution_count": 23,
      "metadata": {
        "id": "wTvMuJLvQLDG"
      },
      "outputs": [],
      "source": [
        "\n",
        "#spark.conf.set(\"spark.driver.memory\", \"8g\")  # Increase to 8 GB (or higher if needed)\n",
        "#spark.conf.set(\"spark.executor.memory\", \"8g\")\n",
        "\n",
        "#disable for now spark.conf.set(\"spark.sql.parquet.enableVectorizedReader\", \"false\")\n",
        "\n",
        "dfs_train = spark.read.format(\"parquet\").option(\"mergeSchema\", \"false\").load(parquet_train_file)\n",
        "dfs_test = spark.read.format(\"parquet\").option(\"mergeSchema\", \"false\").load(parquet_test_file)\n",
        "dfs_validation = spark.read.format(\"parquet\").option(\"mergeSchema\", \"false\").load(parquet_validation_file)"
      ]
    },
    {
      "cell_type": "markdown",
      "metadata": {
        "id": "k8VcUfUHOgry"
      },
      "source": [
        "Check the file contents"
      ]
    },
    {
      "cell_type": "code",
      "execution_count": 24,
      "metadata": {
        "id": "u26PJdQibtkR",
        "colab": {
          "base_uri": "https://localhost:8080/"
        },
        "outputId": "11dc1b3c-a6d1-4c70-86f2-fb1c8a1758e5"
      },
      "outputs": [
        {
          "output_type": "stream",
          "name": "stdout",
          "text": [
            "+---------+---------+-----------+----------------+--------------------+--------------------+--------------------+\n",
            "|       id|org_index|data_source|        industry|                text|              labels|         label_codes|\n",
            "+---------+---------+-----------+----------------+--------------------+--------------------+--------------------+\n",
            "|301972057|      600| Trustpilot|Price Comparison|My experience is ...|[[Staff support: ...|['staff-support.a...|\n",
            "|301982453|      514|Google Play|         Banking|I love it so hand...|[[Company brand: ...|['company-brand.g...|\n",
            "|301980653|      369|Google Play|    Ride Hailing|  Sometimes it takes|[[Company brand: ...|['company-brand.g...|\n",
            "|301979991|      727|Apple Store|         Fashion|This is the worst...|[[Logistics rides...|['logistics-rides...|\n",
            "|301984330|      549|Google Play|  Travel Booking|So easy & loads o...|[[Company brand: ...|['company-brand.g...|\n",
            "+---------+---------+-----------+----------------+--------------------+--------------------+--------------------+\n",
            "only showing top 5 rows\n",
            "\n",
            "+---------+---------+-----------+------------+--------------------+--------------------+--------------------+\n",
            "|       id|org_index|data_source|    industry|                text|              labels|         label_codes|\n",
            "+---------+---------+-----------+------------+--------------------+--------------------+--------------------+\n",
            "|301982094|      514|Google Play|     Banking|Very useful and e...|[[Purchase bookin...|['purchase-bookin...|\n",
            "|301981085|      369|Google Play|Ride Hailing|easy to use.gud r...|[[Staff support: ...|['staff-support.a...|\n",
            "|301986508|      685|Google Play|     Trading|            money 😁|[[Company brand: ...|['company-brand.g...|\n",
            "|301981875|      514|Google Play|     Banking|      Great facility|[[Company brand: ...|['company-brand.g...|\n",
            "|301977341|      411|Apple Store|   Groceries|Love doing my ORG...|[[Purchase bookin...|['purchase-bookin...|\n",
            "+---------+---------+-----------+------------+--------------------+--------------------+--------------------+\n",
            "only showing top 5 rows\n",
            "\n",
            "+---------+---------+-----------+--------------+--------------------+--------------------+--------------------+\n",
            "|       id|org_index|data_source|      industry|                text|              labels|         label_codes|\n",
            "+---------+---------+-----------+--------------+--------------------+--------------------+--------------------+\n",
            "|610309432|     5827|Google Play|    Consulting|How do I retrieve...|[[Account managem...|['account-managem...|\n",
            "|301974039|      616| Trustpilot|       Fashion|Super fast delive...|[[Logistics rides...|['logistics-rides...|\n",
            "|301983653|      549|Google Play|Travel Booking|Great tool for ch...|[[Online experien...|['online-experien...|\n",
            "|301985771|      616|Google Play|       Fashion|Fast shipping but...|[[Logistics rides...|['logistics-rides...|\n",
            "|301980111|      727|Apple Store|       Fashion|Great app. Easy t...|[[Staff support: ...|['staff-support.a...|\n",
            "+---------+---------+-----------+--------------+--------------------+--------------------+--------------------+\n",
            "only showing top 5 rows\n",
            "\n"
          ]
        }
      ],
      "source": [
        "dfs_train.show(5)\n",
        "dfs_test.show(5)\n",
        "dfs_validation.show(5)"
      ]
    },
    {
      "cell_type": "markdown",
      "metadata": {
        "id": "v5cc0tMjaYRk"
      },
      "source": [
        "File was not loading. Implemented a Workaround by converting the pandas version\n",
        "\n",
        "1.   List item\n",
        "2.   List item\n",
        "\n",
        "of the parquet file converted to CSV and read into spark to create a spark dataframe. Maybe delete this segment later as problem was resolved.  "
      ]
    },
    {
      "cell_type": "markdown",
      "metadata": {
        "id": "8w_7RGLkjact"
      },
      "source": [
        "*italicized text*"
      ]
    },
    {
      "cell_type": "code",
      "execution_count": 25,
      "metadata": {
        "id": "f_nMCgTX5Ivi",
        "colab": {
          "base_uri": "https://localhost:8080/"
        },
        "outputId": "77c46df5-40cb-4aee-bbc3-81aadc55c596"
      },
      "outputs": [
        {
          "output_type": "stream",
          "name": "stdout",
          "text": [
            "Training file row count: 7930\n",
            "root\n",
            " |-- id: long (nullable = true)\n",
            " |-- org_index: long (nullable = true)\n",
            " |-- data_source: string (nullable = true)\n",
            " |-- industry: string (nullable = true)\n",
            " |-- text: string (nullable = true)\n",
            " |-- labels: array (nullable = true)\n",
            " |    |-- element: array (containsNull = true)\n",
            " |    |    |-- element: string (containsNull = true)\n",
            " |-- label_codes: string (nullable = true)\n",
            "\n",
            "Testing file row count: 1587\n",
            "root\n",
            " |-- id: long (nullable = true)\n",
            " |-- org_index: long (nullable = true)\n",
            " |-- data_source: string (nullable = true)\n",
            " |-- industry: string (nullable = true)\n",
            " |-- text: string (nullable = true)\n",
            " |-- labels: array (nullable = true)\n",
            " |    |-- element: array (containsNull = true)\n",
            " |    |    |-- element: string (containsNull = true)\n",
            " |-- label_codes: string (nullable = true)\n",
            "\n",
            "Validation file row count: 1057\n",
            "root\n",
            " |-- id: long (nullable = true)\n",
            " |-- org_index: long (nullable = true)\n",
            " |-- data_source: string (nullable = true)\n",
            " |-- industry: string (nullable = true)\n",
            " |-- text: string (nullable = true)\n",
            " |-- labels: array (nullable = true)\n",
            " |    |-- element: array (containsNull = true)\n",
            " |    |    |-- element: string (containsNull = true)\n",
            " |-- label_codes: string (nullable = true)\n",
            "\n"
          ]
        }
      ],
      "source": [
        "print(\"Training file row count:\", dfs_train.count())\n",
        "dfs_train.printSchema()\n",
        "print(\"Testing file row count:\", dfs_test.count())\n",
        "dfs_test.printSchema()\n",
        "print(\"Validation file row count:\", dfs_validation.count())\n",
        "dfs_validation.printSchema()"
      ]
    },
    {
      "cell_type": "code",
      "execution_count": 26,
      "metadata": {
        "id": "nUmFm9EZ51ga"
      },
      "outputs": [],
      "source": [
        "#findspark.init()\n",
        "from pyspark.sql.functions import udf\n",
        "from pyspark.sql.types import ArrayType, StringType\n",
        "from pyspark.sql.functions import col, sum\n"
      ]
    },
    {
      "cell_type": "code",
      "execution_count": 27,
      "metadata": {
        "id": "MFVBX1FfdmFS",
        "colab": {
          "base_uri": "https://localhost:8080/"
        },
        "outputId": "52dedffe-f779-4734-dec7-6eeab8a3942b"
      },
      "outputs": [
        {
          "output_type": "stream",
          "name": "stdout",
          "text": [
            "+---+---------+-----------+--------+----+------+-----------+\n",
            "| id|org_index|data_source|industry|text|labels|label_codes|\n",
            "+---+---------+-----------+--------+----+------+-----------+\n",
            "|  0|        0|          0|       0|   0|     0|          0|\n",
            "+---+---------+-----------+--------+----+------+-----------+\n",
            "\n",
            "+---+---------+-----------+--------+----+------+-----------+\n",
            "| id|org_index|data_source|industry|text|labels|label_codes|\n",
            "+---+---------+-----------+--------+----+------+-----------+\n",
            "|  0|        0|          0|       0|   0|     0|          0|\n",
            "+---+---------+-----------+--------+----+------+-----------+\n",
            "\n",
            "+---+---------+-----------+--------+----+------+-----------+\n",
            "| id|org_index|data_source|industry|text|labels|label_codes|\n",
            "+---+---------+-----------+--------+----+------+-----------+\n",
            "|  0|        0|          0|       0|   0|     0|          0|\n",
            "+---+---------+-----------+--------+----+------+-----------+\n",
            "\n"
          ]
        }
      ],
      "source": [
        "null_counts_train = dfs_train.select([sum(col(c).isNull().cast(\"int\")).alias(c) for c in dfs_train.columns])\n",
        "null_counts_train.show()\n",
        "null_counts_test = dfs_test.select([sum(col(c).isNull().cast(\"int\")).alias(c) for c in dfs_test.columns])\n",
        "null_counts_test.show()\n",
        "null_counts_validation = dfs_validation.select([sum(col(c).isNull().cast(\"int\")).alias(c) for c in dfs_validation.columns])\n",
        "null_counts_validation.show()"
      ]
    },
    {
      "cell_type": "code",
      "execution_count": 28,
      "metadata": {
        "id": "80PqdfPiNZo2"
      },
      "outputs": [],
      "source": [
        "# ACD-Only Classifier Pipeline\n",
        "from pyspark.sql.functions import col, array_contains, lit, udf\n",
        "from pyspark.ml.feature import VectorAssembler\n",
        "from pyspark.ml.classification import LogisticRegression\n",
        "from pyspark.ml.evaluation import MulticlassClassificationEvaluator\n",
        "import ast"
      ]
    },
    {
      "cell_type": "code",
      "execution_count": 29,
      "metadata": {
        "id": "nTg0cCjYNd_P"
      },
      "outputs": [],
      "source": [
        "#Cleaning and Extracting functions\n",
        "def clean_categories(categories):\n",
        "    return categories.replace('-', '_').replace('.', '_')\n",
        "\n",
        "@udf(returnType=ArrayType(StringType()))\n",
        "def extract_categories(label_codes):\n",
        "    if isinstance(label_codes, str):\n",
        "        codes = ast.literal_eval(label_codes)\n",
        "        categories = [code.rsplit('.', 1)[0] for code in codes]\n",
        "        return [clean_categories(cat) for cat in categories]\n",
        "    return []"
      ]
    },
    {
      "cell_type": "markdown",
      "metadata": {
        "id": "LOrPiwbaOY9K"
      },
      "source": [
        "# Step 1: Extract Categories"
      ]
    },
    {
      "cell_type": "code",
      "execution_count": 30,
      "metadata": {
        "id": "vEDS52iDOj18"
      },
      "outputs": [],
      "source": [
        "#dfs_train_clean = dfs_train_clean.limit(5000)\n",
        "#\n",
        "# Extract categories for each DataFrame\n",
        "dfs_train_clean = dfs_train.withColumn(\"categories\", extract_categories(col(\"label_codes\")))\n",
        "dfs_train_clean = dfs_train_clean.limit(80)\n",
        "\n",
        "dfs_test_clean = dfs_test.withColumn(\"categories\", extract_categories(col(\"label_codes\")))\n",
        "dfs_test_clean = dfs_test_clean.limit(80)\n",
        "\n",
        "dfs_validation_clean = dfs_validation.withColumn(\"categories\", extract_categories(col(\"label_codes\")))\n",
        "dfs_validation_clean = dfs_validation_clean.limit(80)"
      ]
    },
    {
      "cell_type": "code",
      "execution_count": 31,
      "metadata": {
        "id": "h3TLXIdil6uR",
        "colab": {
          "base_uri": "https://localhost:8080/"
        },
        "outputId": "ac377fb3-d87f-4306-a2f0-2e367a54bf42"
      },
      "outputs": [
        {
          "output_type": "execute_result",
          "data": {
            "text/plain": [
              "DataFrame[id: bigint, org_index: bigint, data_source: string, industry: string, text: string, labels: array<array<string>>, label_codes: string, categories: array<string>, has_staff_support_attitude_of_staff: int, has_company_brand_reviews: int, has_company_brand_general_satisfaction: int, has_company_brand_competitor: int, has_logistics_rides_speed: int, has_online_experience_app_website: int, has_purchase_booking_experience_ease_of_use: int, has_value_price_value_for_money: int, has_value_discounts_promotions: int, has_account_management_account_access: int, has_staff_support_phone: int]"
            ]
          },
          "metadata": {},
          "execution_count": 31
        }
      ],
      "source": [
        "# Generate binary indicator columns for each category\n",
        "all_categories = dfs_train_clean.select(explode(\"categories\")).distinct().rdd.flatMap(lambda x: x).collect()\n",
        "\n",
        "for category in all_categories:\n",
        "    clean_cat = category.replace('-', '_').replace('.', '_')\n",
        "    dfs_train_clean = dfs_train_clean.withColumn(f\"has_{clean_cat}\", array_contains(col(\"categories\"), category).cast(\"integer\"))\n",
        "    dfs_test_clean = dfs_test_clean.withColumn(f\"has_{clean_cat}\", array_contains(col(\"categories\"), category).cast(\"integer\"))\n",
        "    dfs_validation_clean = dfs_validation_clean.withColumn(f\"has_{clean_cat}\", array_contains(col(\"categories\"), category).cast(\"integer\"))\n",
        "\n",
        "# Cache DataFrames to avoid recomputation\n",
        "dfs_train_clean.cache()\n",
        "dfs_test_clean.cache()\n",
        "dfs_validation_clean.cache()"
      ]
    },
    {
      "cell_type": "code",
      "execution_count": 32,
      "metadata": {
        "id": "YYcDfHqTmI-J"
      },
      "outputs": [],
      "source": [
        "# Generate binary indicator columns for each category\n",
        "all_categories = dfs_train_clean.select(explode(\"categories\")).distinct().rdd.flatMap(lambda x: x).collect()\n",
        "\n",
        "for category in all_categories:\n",
        "    clean_cat = category.replace('-', '_').replace('.', '_')\n",
        "    dfs_train_clean = dfs_train_clean.withColumn(f\"has_{clean_cat}\", array_contains(col(\"categories\"), category).cast(\"integer\"))\n",
        "    dfs_test_clean = dfs_test_clean.withColumn(f\"has_{clean_cat}\", array_contains(col(\"categories\"), category).cast(\"integer\"))\n",
        "    dfs_validation_clean = dfs_validation_clean.withColumn(f\"has_{clean_cat}\", array_contains(col(\"categories\"), category).cast(\"integer\"))\n"
      ]
    },
    {
      "cell_type": "code",
      "execution_count": 33,
      "metadata": {
        "id": "Z43w955emZB5",
        "colab": {
          "base_uri": "https://localhost:8080/"
        },
        "outputId": "f36c1dc5-1ff2-43e3-e93b-4af1c28f9be0"
      },
      "outputs": [
        {
          "output_type": "stream",
          "name": "stdout",
          "text": [
            "+---------+---------+-----------+----------------+--------------------+--------------------+--------------------+--------------------+-----------------------------------+-------------------------+--------------------------------------+----------------------------+-------------------------+---------------------------------+-------------------------------------------+-------------------------------+------------------------------+-------------------------------------+-----------------------+\n",
            "|       id|org_index|data_source|        industry|                text|              labels|         label_codes|          categories|has_staff_support_attitude_of_staff|has_company_brand_reviews|has_company_brand_general_satisfaction|has_company_brand_competitor|has_logistics_rides_speed|has_online_experience_app_website|has_purchase_booking_experience_ease_of_use|has_value_price_value_for_money|has_value_discounts_promotions|has_account_management_account_access|has_staff_support_phone|\n",
            "+---------+---------+-----------+----------------+--------------------+--------------------+--------------------+--------------------+-----------------------------------+-------------------------+--------------------------------------+----------------------------+-------------------------+---------------------------------+-------------------------------------------+-------------------------------+------------------------------+-------------------------------------+-----------------------+\n",
            "|301972057|      600| Trustpilot|Price Comparison|My experience is ...|[[Staff support: ...|['staff-support.a...|[staff_support_at...|                                  1|                        1|                                     1|                           0|                        0|                                0|                                          0|                              0|                             0|                                    0|                      0|\n",
            "|301982453|      514|Google Play|         Banking|I love it so hand...|[[Company brand: ...|['company-brand.g...|[company_brand_ge...|                                  0|                        0|                                     1|                           1|                        0|                                0|                                          0|                              0|                             0|                                    0|                      0|\n",
            "|301980653|      369|Google Play|    Ride Hailing|  Sometimes it takes|[[Company brand: ...|['company-brand.g...|[company_brand_ge...|                                  0|                        0|                                     1|                           0|                        0|                                0|                                          0|                              0|                             0|                                    0|                      0|\n",
            "|301979991|      727|Apple Store|         Fashion|This is the worst...|[[Logistics rides...|['logistics-rides...|[logistics_rides_...|                                  0|                        0|                                     0|                           1|                        1|                                1|                                          0|                              0|                             0|                                    0|                      0|\n",
            "|301984330|      549|Google Play|  Travel Booking|So easy & loads o...|[[Company brand: ...|['company-brand.g...|[company_brand_ge...|                                  0|                        0|                                     1|                           0|                        0|                                0|                                          0|                              0|                             0|                                    0|                      0|\n",
            "+---------+---------+-----------+----------------+--------------------+--------------------+--------------------+--------------------+-----------------------------------+-------------------------+--------------------------------------+----------------------------+-------------------------+---------------------------------+-------------------------------------------+-------------------------------+------------------------------+-------------------------------------+-----------------------+\n",
            "only showing top 5 rows\n",
            "\n",
            "+---------+---------+-----------+------------+--------------------+--------------------+--------------------+--------------------+-----------------------------------+-------------------------+--------------------------------------+----------------------------+-------------------------+---------------------------------+-------------------------------------------+-------------------------------+------------------------------+-------------------------------------+-----------------------+\n",
            "|       id|org_index|data_source|    industry|                text|              labels|         label_codes|          categories|has_staff_support_attitude_of_staff|has_company_brand_reviews|has_company_brand_general_satisfaction|has_company_brand_competitor|has_logistics_rides_speed|has_online_experience_app_website|has_purchase_booking_experience_ease_of_use|has_value_price_value_for_money|has_value_discounts_promotions|has_account_management_account_access|has_staff_support_phone|\n",
            "+---------+---------+-----------+------------+--------------------+--------------------+--------------------+--------------------+-----------------------------------+-------------------------+--------------------------------------+----------------------------+-------------------------+---------------------------------+-------------------------------------------+-------------------------------+------------------------------+-------------------------------------+-----------------------+\n",
            "|301982094|      514|Google Play|     Banking|Very useful and e...|[[Purchase bookin...|['purchase-bookin...|[purchase_booking...|                                  0|                        0|                                     0|                           0|                        0|                                0|                                          1|                              0|                             0|                                    0|                      0|\n",
            "|301981085|      369|Google Play|Ride Hailing|easy to use.gud r...|[[Staff support: ...|['staff-support.a...|[staff_support_at...|                                  1|                        0|                                     0|                           0|                        0|                                1|                                          1|                              1|                             0|                                    0|                      0|\n",
            "|301986508|      685|Google Play|     Trading|            money 😁|[[Company brand: ...|['company-brand.g...|[company_brand_ge...|                                  0|                        0|                                     1|                           0|                        0|                                0|                                          0|                              0|                             0|                                    0|                      0|\n",
            "|301981875|      514|Google Play|     Banking|      Great facility|[[Company brand: ...|['company-brand.g...|[company_brand_ge...|                                  0|                        0|                                     1|                           0|                        0|                                0|                                          0|                              0|                             0|                                    0|                      0|\n",
            "|301977341|      411|Apple Store|   Groceries|Love doing my ORG...|[[Purchase bookin...|['purchase-bookin...|[purchase_booking...|                                  0|                        0|                                     0|                           0|                        0|                                1|                                          1|                              0|                             0|                                    0|                      0|\n",
            "+---------+---------+-----------+------------+--------------------+--------------------+--------------------+--------------------+-----------------------------------+-------------------------+--------------------------------------+----------------------------+-------------------------+---------------------------------+-------------------------------------------+-------------------------------+------------------------------+-------------------------------------+-----------------------+\n",
            "only showing top 5 rows\n",
            "\n",
            "+-----------+--------------------------------------------------------------------------------------------------------------+\n",
            "|data_source|categories                                                                                                    |\n",
            "+-----------+--------------------------------------------------------------------------------------------------------------+\n",
            "|Trustpilot |[staff_support_attitude_of_staff, company_brand_reviews, company_brand_general_satisfaction]                  |\n",
            "|Google Play|[company_brand_general_satisfaction, company_brand_competitor]                                                |\n",
            "|Google Play|[company_brand_general_satisfaction]                                                                          |\n",
            "|Apple Store|[logistics_rides_speed, online_experience_app_website, company_brand_competitor]                              |\n",
            "|Google Play|[company_brand_general_satisfaction]                                                                          |\n",
            "|Apple Store|[company_brand_reviews, online_experience_app_website]                                                        |\n",
            "|Trustpilot |[purchase_booking_experience_ease_of_use, online_experience_app_website, value_price_value_for_money]         |\n",
            "|Google Play|[company_brand_general_satisfaction]                                                                          |\n",
            "|Google Play|[staff_support_attitude_of_staff, purchase_booking_experience_ease_of_use, company_brand_general_satisfaction]|\n",
            "|Google Play|[online_experience_app_website]                                                                               |\n",
            "|Apple Store|[purchase_booking_experience_ease_of_use]                                                                     |\n",
            "|Google Play|[online_experience_app_website, company_brand_general_satisfaction]                                           |\n",
            "|Google Play|[company_brand_general_satisfaction]                                                                          |\n",
            "|Apple Store|[value_discounts_promotions, company_brand_reviews, online_experience_app_website]                            |\n",
            "|Trustpilot |[company_brand_general_satisfaction, value_price_value_for_money]                                             |\n",
            "|Google Play|[purchase_booking_experience_ease_of_use]                                                                     |\n",
            "|Google Play|[purchase_booking_experience_ease_of_use, account_management_account_access]                                  |\n",
            "|Google Play|[account_management_account_access, online_experience_app_website]                                            |\n",
            "|Apple Store|[company_brand_general_satisfaction]                                                                          |\n",
            "|Google Play|[online_experience_app_website, company_brand_competitor]                                                     |\n",
            "+-----------+--------------------------------------------------------------------------------------------------------------+\n",
            "only showing top 20 rows\n",
            "\n",
            "+-----------+--------------------------------------------------------------------------------------------------------------+\n",
            "|data_source|categories                                                                                                    |\n",
            "+-----------+--------------------------------------------------------------------------------------------------------------+\n",
            "|Trustpilot |[staff_support_attitude_of_staff, company_brand_reviews, company_brand_general_satisfaction]                  |\n",
            "|Google Play|[company_brand_general_satisfaction, company_brand_competitor]                                                |\n",
            "|Google Play|[company_brand_general_satisfaction]                                                                          |\n",
            "|Apple Store|[logistics_rides_speed, online_experience_app_website, company_brand_competitor]                              |\n",
            "|Google Play|[company_brand_general_satisfaction]                                                                          |\n",
            "|Apple Store|[company_brand_reviews, online_experience_app_website]                                                        |\n",
            "|Trustpilot |[purchase_booking_experience_ease_of_use, online_experience_app_website, value_price_value_for_money]         |\n",
            "|Google Play|[company_brand_general_satisfaction]                                                                          |\n",
            "|Google Play|[staff_support_attitude_of_staff, purchase_booking_experience_ease_of_use, company_brand_general_satisfaction]|\n",
            "|Google Play|[online_experience_app_website]                                                                               |\n",
            "|Apple Store|[purchase_booking_experience_ease_of_use]                                                                     |\n",
            "|Google Play|[online_experience_app_website, company_brand_general_satisfaction]                                           |\n",
            "|Google Play|[company_brand_general_satisfaction]                                                                          |\n",
            "|Apple Store|[value_discounts_promotions, company_brand_reviews, online_experience_app_website]                            |\n",
            "|Trustpilot |[company_brand_general_satisfaction, value_price_value_for_money]                                             |\n",
            "|Google Play|[purchase_booking_experience_ease_of_use]                                                                     |\n",
            "|Google Play|[purchase_booking_experience_ease_of_use, account_management_account_access]                                  |\n",
            "|Google Play|[account_management_account_access, online_experience_app_website]                                            |\n",
            "|Apple Store|[company_brand_general_satisfaction]                                                                          |\n",
            "|Google Play|[online_experience_app_website, company_brand_competitor]                                                     |\n",
            "+-----------+--------------------------------------------------------------------------------------------------------------+\n",
            "only showing top 20 rows\n",
            "\n"
          ]
        }
      ],
      "source": [
        "dfs_train_clean.show(5)\n",
        "dfs_test_clean.show(5)\n",
        "\n",
        "# Cache DataFrames to avoid recomputation\n",
        "dfs_train_clean.cache()\n",
        "dfs_test_clean.cache()\n",
        "dfs_validation_clean.cache()\n",
        "\n",
        "dfs_train_clean.select(\"data_source\", \"categories\").show(20, truncate=False)\n",
        "\n",
        "# Select feature columns\n",
        "feature_cols = [f\"has_{cat.replace('-', '_').replace('.', '_')}\" for cat in all_categories]\n",
        "\n",
        "dfs_train_clean.select(\"data_source\", \"categories\").show(20, truncate=False)\n"
      ]
    },
    {
      "cell_type": "code",
      "execution_count": 34,
      "metadata": {
        "id": "VYBtBgDNuquY"
      },
      "outputs": [],
      "source": [
        "# SKIP\n",
        "# 3. Train Classifiers\n",
        "#models = {}\n",
        "#for category in all_categories:\n",
        "#    lr = LogisticRegression(featuresCol=\"features\", labelCol=category)\n",
        "#    pipeline = Pipeline(stages=[tokenizer, remover, cv, idf, lr])\n",
        "#    models[category] = pipeline.fit(df)#\n",
        "#\n",
        "## 4. Test on New Data (new_text_df)\n",
        "#for category, model in models.items():\n",
        "#    predictions = model.transform(new_text_df)\n",
        "#    predictions.select(\"text\", category, \"prediction\").show() #show the text, the real category, and the prediction."
      ]
    },
    {
      "cell_type": "code",
      "source": [
        "from pyspark.sql.functions import col, array_contains, lit\n",
        "from pyspark.ml.feature import VectorAssembler\n",
        "from pyspark.ml.classification import LinearSVC\n",
        "from pyspark.ml.evaluation import MulticlassClassificationEvaluator\n",
        "import ast\n",
        "import numpy as np\n",
        "import tensorflow as tf\n",
        "from tensorflow.keras.models import Sequential\n",
        "from tensorflow.keras.layers import LSTM, Dense, Dropout, Conv1D, GlobalMaxPooling1D\n"
      ],
      "metadata": {
        "id": "tonS2_OvtJYV"
      },
      "execution_count": 38,
      "outputs": []
    },
    {
      "cell_type": "code",
      "execution_count": 41,
      "metadata": {
        "id": "UBQbxdYgoHAO",
        "colab": {
          "base_uri": "https://localhost:8080/"
        },
        "outputId": "42b5278b-9bab-4b5d-bcd2-36ecef6225c3"
      },
      "outputs": [
        {
          "output_type": "stream",
          "name": "stdout",
          "text": [
            "+--------------------+--------------------+\n",
            "|            features|                text|\n",
            "+--------------------+--------------------+\n",
            "|(11,[0,1,2],[1.0,...|My experience is ...|\n",
            "|(11,[2,3],[1.0,1.0])|I love it so hand...|\n",
            "|      (11,[2],[1.0])|  Sometimes it takes|\n",
            "|(11,[3,4,5],[1.0,...|This is the worst...|\n",
            "|      (11,[2],[1.0])|So easy & loads o...|\n",
            "+--------------------+--------------------+\n",
            "only showing top 5 rows\n",
            "\n"
          ]
        }
      ],
      "source": [
        "# Train Logistic Regression Model with Regularization and Limited Iterations\n",
        "assembler = VectorAssembler(inputCols=feature_cols, outputCol=\"features\")\n",
        "train_data = assembler.transform(dfs_train_clean).select(\"features\", \"text\")\n",
        "train_data.show(5)\n"
      ]
    },
    {
      "cell_type": "code",
      "source": [
        "# Train SVM Model\n",
        "assembler = VectorAssembler(inputCols=feature_cols, outputCol=\"features\")\n",
        "train_data = assembler.transform(dfs_train_clean).select(\"features\", \"id\")\n",
        "\n",
        "svm = LinearSVC(featuresCol=\"features\", labelCol=\"id\", maxIter=20, regParam=0.1)\n",
        "svm_model = svm.fit(train_data)\n",
        "\n",
        "# Test on test set\n",
        "test_data = assembler.transform(dfs_test_clean).select(\"features\", \"id\")\n",
        "svm_predictions = svm_model.transform(test_data)\n",
        "\n",
        "# Evaluate SVM\n",
        "svm_evaluator = MulticlassClassificationEvaluator(labelCol=\"id\", predictionCol=\"prediction\", metricName=\"f1\")\n",
        "\n",
        "f1_svm = svm_evaluator.evaluate(svm_predictions)\n",
        "precision_svm = svm_evaluator.evaluate(svm_predictions, {svm_evaluator.metricName: \"weightedPrecision\"})\n",
        "recall_svm = svm_evaluator.evaluate(svm_predictions, {svm_evaluator.metricName: \"weightedRecall\"})\n",
        "\n",
        "print(f\"SVM F1 Score: {f1_svm}\")\n",
        "print(f\"SVM Precision: {precision_svm}\")\n",
        "print(f\"SVM Recall: {recall_svm}\")\n",
        "\n",
        "# Convert to Pandas for LSTM and CNN\n",
        "train_pandas = train_data.toPandas()\n",
        "test_pandas = test_data.toPandas()\n",
        "\n",
        "X_train = train_pandas[feature_cols].values\n",
        "X_test = test_pandas[feature_cols].values\n",
        "\n",
        "y_train = train_pandas['id'].values\n",
        "y_test = test_pandas['id'].values\n",
        "\n",
        "# Reshape for LSTM and CNN\n",
        "X_train = X_train[..., np.newaxis]\n",
        "X_test = X_test[..., np.newaxis]\n",
        "\n",
        "# LSTM Model\n",
        "lstm_model = Sequential([\n",
        "    LSTM(64, input_shape=(X_train.shape[1], 1)),\n",
        "    Dropout(0.2),\n",
        "    Dense(len(np.unique(y_train)), activation='softmax')\n",
        "])\n",
        "\n",
        "lstm_model.compile(optimizer='adam', loss='sparse_categorical_crossentropy', metrics=['accuracy'])\n",
        "lstm_model.fit(X_train, y_train, epochs=5, batch_size=32, verbose=0)\n",
        "\n",
        "lstm_loss, lstm_acc = lstm_model.evaluate(X_test, y_test, verbose=0)\n",
        "\n",
        "print(f\"LSTM Accuracy: {lstm_acc}\")\n",
        "\n",
        "# CNN Model\n",
        "cnn_model = Sequential([\n",
        "    Conv1D(64, 3, activation='relu', input_shape=(X_train.shape[1], 1)),\n",
        "    GlobalMaxPooling1D(),\n",
        "    Dense(64, activation='relu'),\n",
        "    Dense(len(np.unique(y_train)), activation='softmax')\n",
        "])\n",
        "\n",
        "cnn_model.compile(optimizer='adam', loss='sparse_categorical_crossentropy', metrics=['accuracy'])\n",
        "cnn_model.fit(X_train, y_train, epochs=5, batch_size=32, verbose=0)\n",
        "\n",
        "cnn_loss, cnn_acc = cnn_model.evaluate(X_test, y_test, verbose=0)\n",
        "\n",
        "print(f\"CNN Accuracy: {cnn_acc}\")\n",
        "\n",
        "# Clear cache to free memory\n",
        "dfs_train_clean.unpersist()\n",
        "dfs_test_clean.unpersist()\n",
        "dfs_validation_clean.unpersist()\n"
      ],
      "metadata": {
        "colab": {
          "base_uri": "https://localhost:8080/",
          "height": 1000
        },
        "id": "MmvS2HLNs_q2",
        "outputId": "54365207-f593-4c5a-d7e3-6886e9f6584b"
      },
      "execution_count": 42,
      "outputs": [
        {
          "output_type": "error",
          "ename": "Py4JJavaError",
          "evalue": "An error occurred while calling o1299.fit.\n: org.apache.spark.SparkException: Job aborted due to stage failure: Task 0 in stage 77.0 failed 1 times, most recent failure: Lost task 0.0 in stage 77.0 (TID 63) (e54f9cbed778 executor driver): java.lang.RuntimeException: Labels MUST be in {0, 1}, but got 3.01972057E8\n\tat org.apache.spark.sql.catalyst.expressions.GeneratedClass$GeneratedIteratorForCodegenStage1.project_doConsume_0$(Unknown Source)\n\tat org.apache.spark.sql.catalyst.expressions.GeneratedClass$GeneratedIteratorForCodegenStage1.processNext(Unknown Source)\n\tat org.apache.spark.sql.execution.BufferedRowIterator.hasNext(BufferedRowIterator.java:43)\n\tat org.apache.spark.sql.execution.WholeStageCodegenEvaluatorFactory$WholeStageCodegenPartitionEvaluator$$anon$1.hasNext(WholeStageCodegenEvaluatorFactory.scala:43)\n\tat scala.collection.Iterator$$anon$10.hasNext(Iterator.scala:460)\n\tat scala.collection.Iterator$$anon$10.hasNext(Iterator.scala:460)\n\tat scala.collection.Iterator$$anon$10.hasNext(Iterator.scala:460)\n\tat scala.collection.Iterator.foreach(Iterator.scala:943)\n\tat scala.collection.Iterator.foreach$(Iterator.scala:943)\n\tat scala.collection.AbstractIterator.foreach(Iterator.scala:1431)\n\tat scala.collection.TraversableOnce.foldLeft(TraversableOnce.scala:199)\n\tat scala.collection.TraversableOnce.foldLeft$(TraversableOnce.scala:192)\n\tat scala.collection.AbstractIterator.foldLeft(Iterator.scala:1431)\n\tat scala.collection.TraversableOnce.aggregate(TraversableOnce.scala:260)\n\tat scala.collection.TraversableOnce.aggregate$(TraversableOnce.scala:260)\n\tat scala.collection.AbstractIterator.aggregate(Iterator.scala:1431)\n\tat org.apache.spark.rdd.RDD.$anonfun$treeAggregate$4(RDD.scala:1264)\n\tat org.apache.spark.rdd.RDD.$anonfun$treeAggregate$6(RDD.scala:1265)\n\tat org.apache.spark.rdd.RDD.$anonfun$mapPartitions$2(RDD.scala:858)\n\tat org.apache.spark.rdd.RDD.$anonfun$mapPartitions$2$adapted(RDD.scala:858)\n\tat org.apache.spark.rdd.MapPartitionsRDD.compute(MapPartitionsRDD.scala:52)\n\tat org.apache.spark.rdd.RDD.computeOrReadCheckpoint(RDD.scala:367)\n\tat org.apache.spark.rdd.RDD.iterator(RDD.scala:331)\n\tat org.apache.spark.scheduler.ResultTask.runTask(ResultTask.scala:93)\n\tat org.apache.spark.TaskContext.runTaskWithListeners(TaskContext.scala:166)\n\tat org.apache.spark.scheduler.Task.run(Task.scala:141)\n\tat org.apache.spark.executor.Executor$TaskRunner.$anonfun$run$4(Executor.scala:620)\n\tat org.apache.spark.util.SparkErrorUtils.tryWithSafeFinally(SparkErrorUtils.scala:64)\n\tat org.apache.spark.util.SparkErrorUtils.tryWithSafeFinally$(SparkErrorUtils.scala:61)\n\tat org.apache.spark.util.Utils$.tryWithSafeFinally(Utils.scala:94)\n\tat org.apache.spark.executor.Executor$TaskRunner.run(Executor.scala:623)\n\tat java.base/java.util.concurrent.ThreadPoolExecutor.runWorker(ThreadPoolExecutor.java:1128)\n\tat java.base/java.util.concurrent.ThreadPoolExecutor$Worker.run(ThreadPoolExecutor.java:628)\n\tat java.base/java.lang.Thread.run(Thread.java:829)\n\nDriver stacktrace:\n\tat org.apache.spark.scheduler.DAGScheduler.failJobAndIndependentStages(DAGScheduler.scala:2856)\n\tat org.apache.spark.scheduler.DAGScheduler.$anonfun$abortStage$2(DAGScheduler.scala:2792)\n\tat org.apache.spark.scheduler.DAGScheduler.$anonfun$abortStage$2$adapted(DAGScheduler.scala:2791)\n\tat scala.collection.mutable.ResizableArray.foreach(ResizableArray.scala:62)\n\tat scala.collection.mutable.ResizableArray.foreach$(ResizableArray.scala:55)\n\tat scala.collection.mutable.ArrayBuffer.foreach(ArrayBuffer.scala:49)\n\tat org.apache.spark.scheduler.DAGScheduler.abortStage(DAGScheduler.scala:2791)\n\tat org.apache.spark.scheduler.DAGScheduler.$anonfun$handleTaskSetFailed$1(DAGScheduler.scala:1247)\n\tat org.apache.spark.scheduler.DAGScheduler.$anonfun$handleTaskSetFailed$1$adapted(DAGScheduler.scala:1247)\n\tat scala.Option.foreach(Option.scala:407)\n\tat org.apache.spark.scheduler.DAGScheduler.handleTaskSetFailed(DAGScheduler.scala:1247)\n\tat org.apache.spark.scheduler.DAGSchedulerEventProcessLoop.doOnReceive(DAGScheduler.scala:3060)\n\tat org.apache.spark.scheduler.DAGSchedulerEventProcessLoop.onReceive(DAGScheduler.scala:2994)\n\tat org.apache.spark.scheduler.DAGSchedulerEventProcessLoop.onReceive(DAGScheduler.scala:2983)\n\tat org.apache.spark.util.EventLoop$$anon$1.run(EventLoop.scala:49)\n\tat org.apache.spark.scheduler.DAGScheduler.runJob(DAGScheduler.scala:989)\n\tat org.apache.spark.SparkContext.runJob(SparkContext.scala:2393)\n\tat org.apache.spark.SparkContext.runJob(SparkContext.scala:2488)\n\tat org.apache.spark.rdd.RDD.$anonfun$fold$1(RDD.scala:1202)\n\tat org.apache.spark.rdd.RDDOperationScope$.withScope(RDDOperationScope.scala:151)\n\tat org.apache.spark.rdd.RDDOperationScope$.withScope(RDDOperationScope.scala:112)\n\tat org.apache.spark.rdd.RDD.withScope(RDD.scala:410)\n\tat org.apache.spark.rdd.RDD.fold(RDD.scala:1196)\n\tat org.apache.spark.rdd.RDD.$anonfun$treeAggregate$2(RDD.scala:1289)\n\tat org.apache.spark.rdd.RDDOperationScope$.withScope(RDDOperationScope.scala:151)\n\tat org.apache.spark.rdd.RDDOperationScope$.withScope(RDDOperationScope.scala:112)\n\tat org.apache.spark.rdd.RDD.withScope(RDD.scala:410)\n\tat org.apache.spark.rdd.RDD.treeAggregate(RDD.scala:1256)\n\tat org.apache.spark.rdd.RDD.$anonfun$treeAggregate$1(RDD.scala:1242)\n\tat org.apache.spark.rdd.RDDOperationScope$.withScope(RDDOperationScope.scala:151)\n\tat org.apache.spark.rdd.RDDOperationScope$.withScope(RDDOperationScope.scala:112)\n\tat org.apache.spark.rdd.RDD.withScope(RDD.scala:410)\n\tat org.apache.spark.rdd.RDD.treeAggregate(RDD.scala:1242)\n\tat org.apache.spark.ml.stat.Summarizer$.getClassificationSummarizers(Summarizer.scala:233)\n\tat org.apache.spark.ml.classification.LinearSVC.$anonfun$train$1(LinearSVC.scala:192)\n\tat org.apache.spark.ml.util.Instrumentation$.$anonfun$instrumented$1(Instrumentation.scala:191)\n\tat scala.util.Try$.apply(Try.scala:213)\n\tat org.apache.spark.ml.util.Instrumentation$.instrumented(Instrumentation.scala:191)\n\tat org.apache.spark.ml.classification.LinearSVC.train(LinearSVC.scala:172)\n\tat org.apache.spark.ml.classification.LinearSVC.train(LinearSVC.scala:77)\n\tat org.apache.spark.ml.Predictor.fit(Predictor.scala:114)\n\tat java.base/jdk.internal.reflect.NativeMethodAccessorImpl.invoke0(Native Method)\n\tat java.base/jdk.internal.reflect.NativeMethodAccessorImpl.invoke(NativeMethodAccessorImpl.java:62)\n\tat java.base/jdk.internal.reflect.DelegatingMethodAccessorImpl.invoke(DelegatingMethodAccessorImpl.java:43)\n\tat java.base/java.lang.reflect.Method.invoke(Method.java:566)\n\tat py4j.reflection.MethodInvoker.invoke(MethodInvoker.java:244)\n\tat py4j.reflection.ReflectionEngine.invoke(ReflectionEngine.java:374)\n\tat py4j.Gateway.invoke(Gateway.java:282)\n\tat py4j.commands.AbstractCommand.invokeMethod(AbstractCommand.java:132)\n\tat py4j.commands.CallCommand.execute(CallCommand.java:79)\n\tat py4j.ClientServerConnection.waitForCommands(ClientServerConnection.java:182)\n\tat py4j.ClientServerConnection.run(ClientServerConnection.java:106)\n\tat java.base/java.lang.Thread.run(Thread.java:829)\nCaused by: java.lang.RuntimeException: Labels MUST be in {0, 1}, but got 3.01972057E8\n\tat org.apache.spark.sql.catalyst.expressions.GeneratedClass$GeneratedIteratorForCodegenStage1.project_doConsume_0$(Unknown Source)\n\tat org.apache.spark.sql.catalyst.expressions.GeneratedClass$GeneratedIteratorForCodegenStage1.processNext(Unknown Source)\n\tat org.apache.spark.sql.execution.BufferedRowIterator.hasNext(BufferedRowIterator.java:43)\n\tat org.apache.spark.sql.execution.WholeStageCodegenEvaluatorFactory$WholeStageCodegenPartitionEvaluator$$anon$1.hasNext(WholeStageCodegenEvaluatorFactory.scala:43)\n\tat scala.collection.Iterator$$anon$10.hasNext(Iterator.scala:460)\n\tat scala.collection.Iterator$$anon$10.hasNext(Iterator.scala:460)\n\tat scala.collection.Iterator$$anon$10.hasNext(Iterator.scala:460)\n\tat scala.collection.Iterator.foreach(Iterator.scala:943)\n\tat scala.collection.Iterator.foreach$(Iterator.scala:943)\n\tat scala.collection.AbstractIterator.foreach(Iterator.scala:1431)\n\tat scala.collection.TraversableOnce.foldLeft(TraversableOnce.scala:199)\n\tat scala.collection.TraversableOnce.foldLeft$(TraversableOnce.scala:192)\n\tat scala.collection.AbstractIterator.foldLeft(Iterator.scala:1431)\n\tat scala.collection.TraversableOnce.aggregate(TraversableOnce.scala:260)\n\tat scala.collection.TraversableOnce.aggregate$(TraversableOnce.scala:260)\n\tat scala.collection.AbstractIterator.aggregate(Iterator.scala:1431)\n\tat org.apache.spark.rdd.RDD.$anonfun$treeAggregate$4(RDD.scala:1264)\n\tat org.apache.spark.rdd.RDD.$anonfun$treeAggregate$6(RDD.scala:1265)\n\tat org.apache.spark.rdd.RDD.$anonfun$mapPartitions$2(RDD.scala:858)\n\tat org.apache.spark.rdd.RDD.$anonfun$mapPartitions$2$adapted(RDD.scala:858)\n\tat org.apache.spark.rdd.MapPartitionsRDD.compute(MapPartitionsRDD.scala:52)\n\tat org.apache.spark.rdd.RDD.computeOrReadCheckpoint(RDD.scala:367)\n\tat org.apache.spark.rdd.RDD.iterator(RDD.scala:331)\n\tat org.apache.spark.scheduler.ResultTask.runTask(ResultTask.scala:93)\n\tat org.apache.spark.TaskContext.runTaskWithListeners(TaskContext.scala:166)\n\tat org.apache.spark.scheduler.Task.run(Task.scala:141)\n\tat org.apache.spark.executor.Executor$TaskRunner.$anonfun$run$4(Executor.scala:620)\n\tat org.apache.spark.util.SparkErrorUtils.tryWithSafeFinally(SparkErrorUtils.scala:64)\n\tat org.apache.spark.util.SparkErrorUtils.tryWithSafeFinally$(SparkErrorUtils.scala:61)\n\tat org.apache.spark.util.Utils$.tryWithSafeFinally(Utils.scala:94)\n\tat org.apache.spark.executor.Executor$TaskRunner.run(Executor.scala:623)\n\tat java.base/java.util.concurrent.ThreadPoolExecutor.runWorker(ThreadPoolExecutor.java:1128)\n\tat java.base/java.util.concurrent.ThreadPoolExecutor$Worker.run(ThreadPoolExecutor.java:628)\n\t... 1 more\n",
          "traceback": [
            "\u001b[0;31m---------------------------------------------------------------------------\u001b[0m",
            "\u001b[0;31mPy4JJavaError\u001b[0m                             Traceback (most recent call last)",
            "\u001b[0;32m<ipython-input-42-48bd97e97c7a>\u001b[0m in \u001b[0;36m<cell line: 0>\u001b[0;34m()\u001b[0m\n\u001b[1;32m      4\u001b[0m \u001b[0;34m\u001b[0m\u001b[0m\n\u001b[1;32m      5\u001b[0m \u001b[0msvm\u001b[0m \u001b[0;34m=\u001b[0m \u001b[0mLinearSVC\u001b[0m\u001b[0;34m(\u001b[0m\u001b[0mfeaturesCol\u001b[0m\u001b[0;34m=\u001b[0m\u001b[0;34m\"features\"\u001b[0m\u001b[0;34m,\u001b[0m \u001b[0mlabelCol\u001b[0m\u001b[0;34m=\u001b[0m\u001b[0;34m\"id\"\u001b[0m\u001b[0;34m,\u001b[0m \u001b[0mmaxIter\u001b[0m\u001b[0;34m=\u001b[0m\u001b[0;36m20\u001b[0m\u001b[0;34m,\u001b[0m \u001b[0mregParam\u001b[0m\u001b[0;34m=\u001b[0m\u001b[0;36m0.1\u001b[0m\u001b[0;34m)\u001b[0m\u001b[0;34m\u001b[0m\u001b[0;34m\u001b[0m\u001b[0m\n\u001b[0;32m----> 6\u001b[0;31m \u001b[0msvm_model\u001b[0m \u001b[0;34m=\u001b[0m \u001b[0msvm\u001b[0m\u001b[0;34m.\u001b[0m\u001b[0mfit\u001b[0m\u001b[0;34m(\u001b[0m\u001b[0mtrain_data\u001b[0m\u001b[0;34m)\u001b[0m\u001b[0;34m\u001b[0m\u001b[0;34m\u001b[0m\u001b[0m\n\u001b[0m\u001b[1;32m      7\u001b[0m \u001b[0;34m\u001b[0m\u001b[0m\n\u001b[1;32m      8\u001b[0m \u001b[0;31m# Test on test set\u001b[0m\u001b[0;34m\u001b[0m\u001b[0;34m\u001b[0m\u001b[0m\n",
            "\u001b[0;32m/usr/local/lib/python3.11/dist-packages/pyspark/ml/base.py\u001b[0m in \u001b[0;36mfit\u001b[0;34m(self, dataset, params)\u001b[0m\n\u001b[1;32m    203\u001b[0m                 \u001b[0;32mreturn\u001b[0m \u001b[0mself\u001b[0m\u001b[0;34m.\u001b[0m\u001b[0mcopy\u001b[0m\u001b[0;34m(\u001b[0m\u001b[0mparams\u001b[0m\u001b[0;34m)\u001b[0m\u001b[0;34m.\u001b[0m\u001b[0m_fit\u001b[0m\u001b[0;34m(\u001b[0m\u001b[0mdataset\u001b[0m\u001b[0;34m)\u001b[0m\u001b[0;34m\u001b[0m\u001b[0;34m\u001b[0m\u001b[0m\n\u001b[1;32m    204\u001b[0m             \u001b[0;32melse\u001b[0m\u001b[0;34m:\u001b[0m\u001b[0;34m\u001b[0m\u001b[0;34m\u001b[0m\u001b[0m\n\u001b[0;32m--> 205\u001b[0;31m                 \u001b[0;32mreturn\u001b[0m \u001b[0mself\u001b[0m\u001b[0;34m.\u001b[0m\u001b[0m_fit\u001b[0m\u001b[0;34m(\u001b[0m\u001b[0mdataset\u001b[0m\u001b[0;34m)\u001b[0m\u001b[0;34m\u001b[0m\u001b[0;34m\u001b[0m\u001b[0m\n\u001b[0m\u001b[1;32m    206\u001b[0m         \u001b[0;32melse\u001b[0m\u001b[0;34m:\u001b[0m\u001b[0;34m\u001b[0m\u001b[0;34m\u001b[0m\u001b[0m\n\u001b[1;32m    207\u001b[0m             raise TypeError(\n",
            "\u001b[0;32m/usr/local/lib/python3.11/dist-packages/pyspark/ml/wrapper.py\u001b[0m in \u001b[0;36m_fit\u001b[0;34m(self, dataset)\u001b[0m\n\u001b[1;32m    379\u001b[0m \u001b[0;34m\u001b[0m\u001b[0m\n\u001b[1;32m    380\u001b[0m     \u001b[0;32mdef\u001b[0m \u001b[0m_fit\u001b[0m\u001b[0;34m(\u001b[0m\u001b[0mself\u001b[0m\u001b[0;34m,\u001b[0m \u001b[0mdataset\u001b[0m\u001b[0;34m:\u001b[0m \u001b[0mDataFrame\u001b[0m\u001b[0;34m)\u001b[0m \u001b[0;34m->\u001b[0m \u001b[0mJM\u001b[0m\u001b[0;34m:\u001b[0m\u001b[0;34m\u001b[0m\u001b[0;34m\u001b[0m\u001b[0m\n\u001b[0;32m--> 381\u001b[0;31m         \u001b[0mjava_model\u001b[0m \u001b[0;34m=\u001b[0m \u001b[0mself\u001b[0m\u001b[0;34m.\u001b[0m\u001b[0m_fit_java\u001b[0m\u001b[0;34m(\u001b[0m\u001b[0mdataset\u001b[0m\u001b[0;34m)\u001b[0m\u001b[0;34m\u001b[0m\u001b[0;34m\u001b[0m\u001b[0m\n\u001b[0m\u001b[1;32m    382\u001b[0m         \u001b[0mmodel\u001b[0m \u001b[0;34m=\u001b[0m \u001b[0mself\u001b[0m\u001b[0;34m.\u001b[0m\u001b[0m_create_model\u001b[0m\u001b[0;34m(\u001b[0m\u001b[0mjava_model\u001b[0m\u001b[0;34m)\u001b[0m\u001b[0;34m\u001b[0m\u001b[0;34m\u001b[0m\u001b[0m\n\u001b[1;32m    383\u001b[0m         \u001b[0;32mreturn\u001b[0m \u001b[0mself\u001b[0m\u001b[0;34m.\u001b[0m\u001b[0m_copyValues\u001b[0m\u001b[0;34m(\u001b[0m\u001b[0mmodel\u001b[0m\u001b[0;34m)\u001b[0m\u001b[0;34m\u001b[0m\u001b[0;34m\u001b[0m\u001b[0m\n",
            "\u001b[0;32m/usr/local/lib/python3.11/dist-packages/pyspark/ml/wrapper.py\u001b[0m in \u001b[0;36m_fit_java\u001b[0;34m(self, dataset)\u001b[0m\n\u001b[1;32m    376\u001b[0m \u001b[0;34m\u001b[0m\u001b[0m\n\u001b[1;32m    377\u001b[0m         \u001b[0mself\u001b[0m\u001b[0;34m.\u001b[0m\u001b[0m_transfer_params_to_java\u001b[0m\u001b[0;34m(\u001b[0m\u001b[0;34m)\u001b[0m\u001b[0;34m\u001b[0m\u001b[0;34m\u001b[0m\u001b[0m\n\u001b[0;32m--> 378\u001b[0;31m         \u001b[0;32mreturn\u001b[0m \u001b[0mself\u001b[0m\u001b[0;34m.\u001b[0m\u001b[0m_java_obj\u001b[0m\u001b[0;34m.\u001b[0m\u001b[0mfit\u001b[0m\u001b[0;34m(\u001b[0m\u001b[0mdataset\u001b[0m\u001b[0;34m.\u001b[0m\u001b[0m_jdf\u001b[0m\u001b[0;34m)\u001b[0m\u001b[0;34m\u001b[0m\u001b[0;34m\u001b[0m\u001b[0m\n\u001b[0m\u001b[1;32m    379\u001b[0m \u001b[0;34m\u001b[0m\u001b[0m\n\u001b[1;32m    380\u001b[0m     \u001b[0;32mdef\u001b[0m \u001b[0m_fit\u001b[0m\u001b[0;34m(\u001b[0m\u001b[0mself\u001b[0m\u001b[0;34m,\u001b[0m \u001b[0mdataset\u001b[0m\u001b[0;34m:\u001b[0m \u001b[0mDataFrame\u001b[0m\u001b[0;34m)\u001b[0m \u001b[0;34m->\u001b[0m \u001b[0mJM\u001b[0m\u001b[0;34m:\u001b[0m\u001b[0;34m\u001b[0m\u001b[0;34m\u001b[0m\u001b[0m\n",
            "\u001b[0;32m/usr/local/lib/python3.11/dist-packages/py4j/java_gateway.py\u001b[0m in \u001b[0;36m__call__\u001b[0;34m(self, *args)\u001b[0m\n\u001b[1;32m   1320\u001b[0m \u001b[0;34m\u001b[0m\u001b[0m\n\u001b[1;32m   1321\u001b[0m         \u001b[0manswer\u001b[0m \u001b[0;34m=\u001b[0m \u001b[0mself\u001b[0m\u001b[0;34m.\u001b[0m\u001b[0mgateway_client\u001b[0m\u001b[0;34m.\u001b[0m\u001b[0msend_command\u001b[0m\u001b[0;34m(\u001b[0m\u001b[0mcommand\u001b[0m\u001b[0;34m)\u001b[0m\u001b[0;34m\u001b[0m\u001b[0;34m\u001b[0m\u001b[0m\n\u001b[0;32m-> 1322\u001b[0;31m         return_value = get_return_value(\n\u001b[0m\u001b[1;32m   1323\u001b[0m             answer, self.gateway_client, self.target_id, self.name)\n\u001b[1;32m   1324\u001b[0m \u001b[0;34m\u001b[0m\u001b[0m\n",
            "\u001b[0;32m/usr/local/lib/python3.11/dist-packages/pyspark/errors/exceptions/captured.py\u001b[0m in \u001b[0;36mdeco\u001b[0;34m(*a, **kw)\u001b[0m\n\u001b[1;32m    177\u001b[0m     \u001b[0;32mdef\u001b[0m \u001b[0mdeco\u001b[0m\u001b[0;34m(\u001b[0m\u001b[0;34m*\u001b[0m\u001b[0ma\u001b[0m\u001b[0;34m:\u001b[0m \u001b[0mAny\u001b[0m\u001b[0;34m,\u001b[0m \u001b[0;34m**\u001b[0m\u001b[0mkw\u001b[0m\u001b[0;34m:\u001b[0m \u001b[0mAny\u001b[0m\u001b[0;34m)\u001b[0m \u001b[0;34m->\u001b[0m \u001b[0mAny\u001b[0m\u001b[0;34m:\u001b[0m\u001b[0;34m\u001b[0m\u001b[0;34m\u001b[0m\u001b[0m\n\u001b[1;32m    178\u001b[0m         \u001b[0;32mtry\u001b[0m\u001b[0;34m:\u001b[0m\u001b[0;34m\u001b[0m\u001b[0;34m\u001b[0m\u001b[0m\n\u001b[0;32m--> 179\u001b[0;31m             \u001b[0;32mreturn\u001b[0m \u001b[0mf\u001b[0m\u001b[0;34m(\u001b[0m\u001b[0;34m*\u001b[0m\u001b[0ma\u001b[0m\u001b[0;34m,\u001b[0m \u001b[0;34m**\u001b[0m\u001b[0mkw\u001b[0m\u001b[0;34m)\u001b[0m\u001b[0;34m\u001b[0m\u001b[0;34m\u001b[0m\u001b[0m\n\u001b[0m\u001b[1;32m    180\u001b[0m         \u001b[0;32mexcept\u001b[0m \u001b[0mPy4JJavaError\u001b[0m \u001b[0;32mas\u001b[0m \u001b[0me\u001b[0m\u001b[0;34m:\u001b[0m\u001b[0;34m\u001b[0m\u001b[0;34m\u001b[0m\u001b[0m\n\u001b[1;32m    181\u001b[0m             \u001b[0mconverted\u001b[0m \u001b[0;34m=\u001b[0m \u001b[0mconvert_exception\u001b[0m\u001b[0;34m(\u001b[0m\u001b[0me\u001b[0m\u001b[0;34m.\u001b[0m\u001b[0mjava_exception\u001b[0m\u001b[0;34m)\u001b[0m\u001b[0;34m\u001b[0m\u001b[0;34m\u001b[0m\u001b[0m\n",
            "\u001b[0;32m/usr/local/lib/python3.11/dist-packages/py4j/protocol.py\u001b[0m in \u001b[0;36mget_return_value\u001b[0;34m(answer, gateway_client, target_id, name)\u001b[0m\n\u001b[1;32m    324\u001b[0m             \u001b[0mvalue\u001b[0m \u001b[0;34m=\u001b[0m \u001b[0mOUTPUT_CONVERTER\u001b[0m\u001b[0;34m[\u001b[0m\u001b[0mtype\u001b[0m\u001b[0;34m]\u001b[0m\u001b[0;34m(\u001b[0m\u001b[0manswer\u001b[0m\u001b[0;34m[\u001b[0m\u001b[0;36m2\u001b[0m\u001b[0;34m:\u001b[0m\u001b[0;34m]\u001b[0m\u001b[0;34m,\u001b[0m \u001b[0mgateway_client\u001b[0m\u001b[0;34m)\u001b[0m\u001b[0;34m\u001b[0m\u001b[0;34m\u001b[0m\u001b[0m\n\u001b[1;32m    325\u001b[0m             \u001b[0;32mif\u001b[0m \u001b[0manswer\u001b[0m\u001b[0;34m[\u001b[0m\u001b[0;36m1\u001b[0m\u001b[0;34m]\u001b[0m \u001b[0;34m==\u001b[0m \u001b[0mREFERENCE_TYPE\u001b[0m\u001b[0;34m:\u001b[0m\u001b[0;34m\u001b[0m\u001b[0;34m\u001b[0m\u001b[0m\n\u001b[0;32m--> 326\u001b[0;31m                 raise Py4JJavaError(\n\u001b[0m\u001b[1;32m    327\u001b[0m                     \u001b[0;34m\"An error occurred while calling {0}{1}{2}.\\n\"\u001b[0m\u001b[0;34m.\u001b[0m\u001b[0;34m\u001b[0m\u001b[0;34m\u001b[0m\u001b[0m\n\u001b[1;32m    328\u001b[0m                     format(target_id, \".\", name), value)\n",
            "\u001b[0;31mPy4JJavaError\u001b[0m: An error occurred while calling o1299.fit.\n: org.apache.spark.SparkException: Job aborted due to stage failure: Task 0 in stage 77.0 failed 1 times, most recent failure: Lost task 0.0 in stage 77.0 (TID 63) (e54f9cbed778 executor driver): java.lang.RuntimeException: Labels MUST be in {0, 1}, but got 3.01972057E8\n\tat org.apache.spark.sql.catalyst.expressions.GeneratedClass$GeneratedIteratorForCodegenStage1.project_doConsume_0$(Unknown Source)\n\tat org.apache.spark.sql.catalyst.expressions.GeneratedClass$GeneratedIteratorForCodegenStage1.processNext(Unknown Source)\n\tat org.apache.spark.sql.execution.BufferedRowIterator.hasNext(BufferedRowIterator.java:43)\n\tat org.apache.spark.sql.execution.WholeStageCodegenEvaluatorFactory$WholeStageCodegenPartitionEvaluator$$anon$1.hasNext(WholeStageCodegenEvaluatorFactory.scala:43)\n\tat scala.collection.Iterator$$anon$10.hasNext(Iterator.scala:460)\n\tat scala.collection.Iterator$$anon$10.hasNext(Iterator.scala:460)\n\tat scala.collection.Iterator$$anon$10.hasNext(Iterator.scala:460)\n\tat scala.collection.Iterator.foreach(Iterator.scala:943)\n\tat scala.collection.Iterator.foreach$(Iterator.scala:943)\n\tat scala.collection.AbstractIterator.foreach(Iterator.scala:1431)\n\tat scala.collection.TraversableOnce.foldLeft(TraversableOnce.scala:199)\n\tat scala.collection.TraversableOnce.foldLeft$(TraversableOnce.scala:192)\n\tat scala.collection.AbstractIterator.foldLeft(Iterator.scala:1431)\n\tat scala.collection.TraversableOnce.aggregate(TraversableOnce.scala:260)\n\tat scala.collection.TraversableOnce.aggregate$(TraversableOnce.scala:260)\n\tat scala.collection.AbstractIterator.aggregate(Iterator.scala:1431)\n\tat org.apache.spark.rdd.RDD.$anonfun$treeAggregate$4(RDD.scala:1264)\n\tat org.apache.spark.rdd.RDD.$anonfun$treeAggregate$6(RDD.scala:1265)\n\tat org.apache.spark.rdd.RDD.$anonfun$mapPartitions$2(RDD.scala:858)\n\tat org.apache.spark.rdd.RDD.$anonfun$mapPartitions$2$adapted(RDD.scala:858)\n\tat org.apache.spark.rdd.MapPartitionsRDD.compute(MapPartitionsRDD.scala:52)\n\tat org.apache.spark.rdd.RDD.computeOrReadCheckpoint(RDD.scala:367)\n\tat org.apache.spark.rdd.RDD.iterator(RDD.scala:331)\n\tat org.apache.spark.scheduler.ResultTask.runTask(ResultTask.scala:93)\n\tat org.apache.spark.TaskContext.runTaskWithListeners(TaskContext.scala:166)\n\tat org.apache.spark.scheduler.Task.run(Task.scala:141)\n\tat org.apache.spark.executor.Executor$TaskRunner.$anonfun$run$4(Executor.scala:620)\n\tat org.apache.spark.util.SparkErrorUtils.tryWithSafeFinally(SparkErrorUtils.scala:64)\n\tat org.apache.spark.util.SparkErrorUtils.tryWithSafeFinally$(SparkErrorUtils.scala:61)\n\tat org.apache.spark.util.Utils$.tryWithSafeFinally(Utils.scala:94)\n\tat org.apache.spark.executor.Executor$TaskRunner.run(Executor.scala:623)\n\tat java.base/java.util.concurrent.ThreadPoolExecutor.runWorker(ThreadPoolExecutor.java:1128)\n\tat java.base/java.util.concurrent.ThreadPoolExecutor$Worker.run(ThreadPoolExecutor.java:628)\n\tat java.base/java.lang.Thread.run(Thread.java:829)\n\nDriver stacktrace:\n\tat org.apache.spark.scheduler.DAGScheduler.failJobAndIndependentStages(DAGScheduler.scala:2856)\n\tat org.apache.spark.scheduler.DAGScheduler.$anonfun$abortStage$2(DAGScheduler.scala:2792)\n\tat org.apache.spark.scheduler.DAGScheduler.$anonfun$abortStage$2$adapted(DAGScheduler.scala:2791)\n\tat scala.collection.mutable.ResizableArray.foreach(ResizableArray.scala:62)\n\tat scala.collection.mutable.ResizableArray.foreach$(ResizableArray.scala:55)\n\tat scala.collection.mutable.ArrayBuffer.foreach(ArrayBuffer.scala:49)\n\tat org.apache.spark.scheduler.DAGScheduler.abortStage(DAGScheduler.scala:2791)\n\tat org.apache.spark.scheduler.DAGScheduler.$anonfun$handleTaskSetFailed$1(DAGScheduler.scala:1247)\n\tat org.apache.spark.scheduler.DAGScheduler.$anonfun$handleTaskSetFailed$1$adapted(DAGScheduler.scala:1247)\n\tat scala.Option.foreach(Option.scala:407)\n\tat org.apache.spark.scheduler.DAGScheduler.handleTaskSetFailed(DAGScheduler.scala:1247)\n\tat org.apache.spark.scheduler.DAGSchedulerEventProcessLoop.doOnReceive(DAGScheduler.scala:3060)\n\tat org.apache.spark.scheduler.DAGSchedulerEventProcessLoop.onReceive(DAGScheduler.scala:2994)\n\tat org.apache.spark.scheduler.DAGSchedulerEventProcessLoop.onReceive(DAGScheduler.scala:2983)\n\tat org.apache.spark.util.EventLoop$$anon$1.run(EventLoop.scala:49)\n\tat org.apache.spark.scheduler.DAGScheduler.runJob(DAGScheduler.scala:989)\n\tat org.apache.spark.SparkContext.runJob(SparkContext.scala:2393)\n\tat org.apache.spark.SparkContext.runJob(SparkContext.scala:2488)\n\tat org.apache.spark.rdd.RDD.$anonfun$fold$1(RDD.scala:1202)\n\tat org.apache.spark.rdd.RDDOperationScope$.withScope(RDDOperationScope.scala:151)\n\tat org.apache.spark.rdd.RDDOperationScope$.withScope(RDDOperationScope.scala:112)\n\tat org.apache.spark.rdd.RDD.withScope(RDD.scala:410)\n\tat org.apache.spark.rdd.RDD.fold(RDD.scala:1196)\n\tat org.apache.spark.rdd.RDD.$anonfun$treeAggregate$2(RDD.scala:1289)\n\tat org.apache.spark.rdd.RDDOperationScope$.withScope(RDDOperationScope.scala:151)\n\tat org.apache.spark.rdd.RDDOperationScope$.withScope(RDDOperationScope.scala:112)\n\tat org.apache.spark.rdd.RDD.withScope(RDD.scala:410)\n\tat org.apache.spark.rdd.RDD.treeAggregate(RDD.scala:1256)\n\tat org.apache.spark.rdd.RDD.$anonfun$treeAggregate$1(RDD.scala:1242)\n\tat org.apache.spark.rdd.RDDOperationScope$.withScope(RDDOperationScope.scala:151)\n\tat org.apache.spark.rdd.RDDOperationScope$.withScope(RDDOperationScope.scala:112)\n\tat org.apache.spark.rdd.RDD.withScope(RDD.scala:410)\n\tat org.apache.spark.rdd.RDD.treeAggregate(RDD.scala:1242)\n\tat org.apache.spark.ml.stat.Summarizer$.getClassificationSummarizers(Summarizer.scala:233)\n\tat org.apache.spark.ml.classification.LinearSVC.$anonfun$train$1(LinearSVC.scala:192)\n\tat org.apache.spark.ml.util.Instrumentation$.$anonfun$instrumented$1(Instrumentation.scala:191)\n\tat scala.util.Try$.apply(Try.scala:213)\n\tat org.apache.spark.ml.util.Instrumentation$.instrumented(Instrumentation.scala:191)\n\tat org.apache.spark.ml.classification.LinearSVC.train(LinearSVC.scala:172)\n\tat org.apache.spark.ml.classification.LinearSVC.train(LinearSVC.scala:77)\n\tat org.apache.spark.ml.Predictor.fit(Predictor.scala:114)\n\tat java.base/jdk.internal.reflect.NativeMethodAccessorImpl.invoke0(Native Method)\n\tat java.base/jdk.internal.reflect.NativeMethodAccessorImpl.invoke(NativeMethodAccessorImpl.java:62)\n\tat java.base/jdk.internal.reflect.DelegatingMethodAccessorImpl.invoke(DelegatingMethodAccessorImpl.java:43)\n\tat java.base/java.lang.reflect.Method.invoke(Method.java:566)\n\tat py4j.reflection.MethodInvoker.invoke(MethodInvoker.java:244)\n\tat py4j.reflection.ReflectionEngine.invoke(ReflectionEngine.java:374)\n\tat py4j.Gateway.invoke(Gateway.java:282)\n\tat py4j.commands.AbstractCommand.invokeMethod(AbstractCommand.java:132)\n\tat py4j.commands.CallCommand.execute(CallCommand.java:79)\n\tat py4j.ClientServerConnection.waitForCommands(ClientServerConnection.java:182)\n\tat py4j.ClientServerConnection.run(ClientServerConnection.java:106)\n\tat java.base/java.lang.Thread.run(Thread.java:829)\nCaused by: java.lang.RuntimeException: Labels MUST be in {0, 1}, but got 3.01972057E8\n\tat org.apache.spark.sql.catalyst.expressions.GeneratedClass$GeneratedIteratorForCodegenStage1.project_doConsume_0$(Unknown Source)\n\tat org.apache.spark.sql.catalyst.expressions.GeneratedClass$GeneratedIteratorForCodegenStage1.processNext(Unknown Source)\n\tat org.apache.spark.sql.execution.BufferedRowIterator.hasNext(BufferedRowIterator.java:43)\n\tat org.apache.spark.sql.execution.WholeStageCodegenEvaluatorFactory$WholeStageCodegenPartitionEvaluator$$anon$1.hasNext(WholeStageCodegenEvaluatorFactory.scala:43)\n\tat scala.collection.Iterator$$anon$10.hasNext(Iterator.scala:460)\n\tat scala.collection.Iterator$$anon$10.hasNext(Iterator.scala:460)\n\tat scala.collection.Iterator$$anon$10.hasNext(Iterator.scala:460)\n\tat scala.collection.Iterator.foreach(Iterator.scala:943)\n\tat scala.collection.Iterator.foreach$(Iterator.scala:943)\n\tat scala.collection.AbstractIterator.foreach(Iterator.scala:1431)\n\tat scala.collection.TraversableOnce.foldLeft(TraversableOnce.scala:199)\n\tat scala.collection.TraversableOnce.foldLeft$(TraversableOnce.scala:192)\n\tat scala.collection.AbstractIterator.foldLeft(Iterator.scala:1431)\n\tat scala.collection.TraversableOnce.aggregate(TraversableOnce.scala:260)\n\tat scala.collection.TraversableOnce.aggregate$(TraversableOnce.scala:260)\n\tat scala.collection.AbstractIterator.aggregate(Iterator.scala:1431)\n\tat org.apache.spark.rdd.RDD.$anonfun$treeAggregate$4(RDD.scala:1264)\n\tat org.apache.spark.rdd.RDD.$anonfun$treeAggregate$6(RDD.scala:1265)\n\tat org.apache.spark.rdd.RDD.$anonfun$mapPartitions$2(RDD.scala:858)\n\tat org.apache.spark.rdd.RDD.$anonfun$mapPartitions$2$adapted(RDD.scala:858)\n\tat org.apache.spark.rdd.MapPartitionsRDD.compute(MapPartitionsRDD.scala:52)\n\tat org.apache.spark.rdd.RDD.computeOrReadCheckpoint(RDD.scala:367)\n\tat org.apache.spark.rdd.RDD.iterator(RDD.scala:331)\n\tat org.apache.spark.scheduler.ResultTask.runTask(ResultTask.scala:93)\n\tat org.apache.spark.TaskContext.runTaskWithListeners(TaskContext.scala:166)\n\tat org.apache.spark.scheduler.Task.run(Task.scala:141)\n\tat org.apache.spark.executor.Executor$TaskRunner.$anonfun$run$4(Executor.scala:620)\n\tat org.apache.spark.util.SparkErrorUtils.tryWithSafeFinally(SparkErrorUtils.scala:64)\n\tat org.apache.spark.util.SparkErrorUtils.tryWithSafeFinally$(SparkErrorUtils.scala:61)\n\tat org.apache.spark.util.Utils$.tryWithSafeFinally(Utils.scala:94)\n\tat org.apache.spark.executor.Executor$TaskRunner.run(Executor.scala:623)\n\tat java.base/java.util.concurrent.ThreadPoolExecutor.runWorker(ThreadPoolExecutor.java:1128)\n\tat java.base/java.util.concurrent.ThreadPoolExecutor$Worker.run(ThreadPoolExecutor.java:628)\n\t... 1 more\n"
          ]
        }
      ]
    },
    {
      "cell_type": "code",
      "execution_count": 36,
      "metadata": {
        "id": "ZK-BA9GQve4r",
        "colab": {
          "base_uri": "https://localhost:8080/",
          "height": 755
        },
        "outputId": "06fb99bd-ee4c-420b-8d47-722828f74218"
      },
      "outputs": [
        {
          "output_type": "error",
          "ename": "Py4JJavaError",
          "evalue": "An error occurred while calling o1077.fit.\n: java.lang.OutOfMemoryError: Java heap space\n\tat scala.reflect.ManifestFactory$DoubleManifest.newArray(Manifest.scala:194)\n\tat scala.reflect.ManifestFactory$DoubleManifest.newArray(Manifest.scala:191)\n\tat scala.Array$.ofDim(Array.scala:305)\n\tat org.apache.spark.ml.stat.MultiClassSummarizer.histogram(MultiClassSummarizer.scala:89)\n\tat org.apache.spark.ml.classification.LogisticRegression.$anonfun$train$1(LogisticRegression.scala:520)\n\tat org.apache.spark.ml.classification.LogisticRegression$$Lambda$4092/0x00000008417cb840.apply(Unknown Source)\n\tat org.apache.spark.ml.util.Instrumentation$.$anonfun$instrumented$1(Instrumentation.scala:191)\n\tat org.apache.spark.ml.util.Instrumentation$$$Lambda$4093/0x00000008417cb440.apply(Unknown Source)\n\tat scala.util.Try$.apply(Try.scala:213)\n\tat org.apache.spark.ml.util.Instrumentation$.instrumented(Instrumentation.scala:191)\n\tat org.apache.spark.ml.classification.LogisticRegression.train(LogisticRegression.scala:497)\n\tat org.apache.spark.ml.classification.LogisticRegression.train(LogisticRegression.scala:287)\n\tat org.apache.spark.ml.Predictor.fit(Predictor.scala:114)\n\tat java.base/jdk.internal.reflect.NativeMethodAccessorImpl.invoke0(Native Method)\n\tat java.base/jdk.internal.reflect.NativeMethodAccessorImpl.invoke(NativeMethodAccessorImpl.java:62)\n\tat java.base/jdk.internal.reflect.DelegatingMethodAccessorImpl.invoke(DelegatingMethodAccessorImpl.java:43)\n\tat java.base/java.lang.reflect.Method.invoke(Method.java:566)\n\tat py4j.reflection.MethodInvoker.invoke(MethodInvoker.java:244)\n\tat py4j.reflection.ReflectionEngine.invoke(ReflectionEngine.java:374)\n\tat py4j.Gateway.invoke(Gateway.java:282)\n\tat py4j.commands.AbstractCommand.invokeMethod(AbstractCommand.java:132)\n\tat py4j.commands.CallCommand.execute(CallCommand.java:79)\n\tat py4j.ClientServerConnection.waitForCommands(ClientServerConnection.java:182)\n\tat py4j.ClientServerConnection.run(ClientServerConnection.java:106)\n\tat java.base/java.lang.Thread.run(Thread.java:829)\n",
          "traceback": [
            "\u001b[0;31m---------------------------------------------------------------------------\u001b[0m",
            "\u001b[0;31mPy4JJavaError\u001b[0m                             Traceback (most recent call last)",
            "\u001b[0;32m<ipython-input-36-7fd82ab35dfe>\u001b[0m in \u001b[0;36m<cell line: 0>\u001b[0;34m()\u001b[0m\n\u001b[1;32m      1\u001b[0m \u001b[0mlr\u001b[0m \u001b[0;34m=\u001b[0m \u001b[0mLogisticRegression\u001b[0m\u001b[0;34m(\u001b[0m\u001b[0mfeaturesCol\u001b[0m\u001b[0;34m=\u001b[0m\u001b[0;34m\"features\"\u001b[0m\u001b[0;34m,\u001b[0m \u001b[0mlabelCol\u001b[0m\u001b[0;34m=\u001b[0m\u001b[0;34m\"id\"\u001b[0m\u001b[0;34m,\u001b[0m \u001b[0mmaxIter\u001b[0m\u001b[0;34m=\u001b[0m\u001b[0;36m20\u001b[0m\u001b[0;34m,\u001b[0m \u001b[0mregParam\u001b[0m\u001b[0;34m=\u001b[0m\u001b[0;36m0.1\u001b[0m\u001b[0;34m)\u001b[0m\u001b[0;34m\u001b[0m\u001b[0;34m\u001b[0m\u001b[0m\n\u001b[0;32m----> 2\u001b[0;31m \u001b[0mmodel\u001b[0m \u001b[0;34m=\u001b[0m \u001b[0mlr\u001b[0m\u001b[0;34m.\u001b[0m\u001b[0mfit\u001b[0m\u001b[0;34m(\u001b[0m\u001b[0mtrain_data\u001b[0m\u001b[0;34m)\u001b[0m\u001b[0;34m\u001b[0m\u001b[0;34m\u001b[0m\u001b[0m\n\u001b[0m",
            "\u001b[0;32m/usr/local/lib/python3.11/dist-packages/pyspark/ml/base.py\u001b[0m in \u001b[0;36mfit\u001b[0;34m(self, dataset, params)\u001b[0m\n\u001b[1;32m    203\u001b[0m                 \u001b[0;32mreturn\u001b[0m \u001b[0mself\u001b[0m\u001b[0;34m.\u001b[0m\u001b[0mcopy\u001b[0m\u001b[0;34m(\u001b[0m\u001b[0mparams\u001b[0m\u001b[0;34m)\u001b[0m\u001b[0;34m.\u001b[0m\u001b[0m_fit\u001b[0m\u001b[0;34m(\u001b[0m\u001b[0mdataset\u001b[0m\u001b[0;34m)\u001b[0m\u001b[0;34m\u001b[0m\u001b[0;34m\u001b[0m\u001b[0m\n\u001b[1;32m    204\u001b[0m             \u001b[0;32melse\u001b[0m\u001b[0;34m:\u001b[0m\u001b[0;34m\u001b[0m\u001b[0;34m\u001b[0m\u001b[0m\n\u001b[0;32m--> 205\u001b[0;31m                 \u001b[0;32mreturn\u001b[0m \u001b[0mself\u001b[0m\u001b[0;34m.\u001b[0m\u001b[0m_fit\u001b[0m\u001b[0;34m(\u001b[0m\u001b[0mdataset\u001b[0m\u001b[0;34m)\u001b[0m\u001b[0;34m\u001b[0m\u001b[0;34m\u001b[0m\u001b[0m\n\u001b[0m\u001b[1;32m    206\u001b[0m         \u001b[0;32melse\u001b[0m\u001b[0;34m:\u001b[0m\u001b[0;34m\u001b[0m\u001b[0;34m\u001b[0m\u001b[0m\n\u001b[1;32m    207\u001b[0m             raise TypeError(\n",
            "\u001b[0;32m/usr/local/lib/python3.11/dist-packages/pyspark/ml/wrapper.py\u001b[0m in \u001b[0;36m_fit\u001b[0;34m(self, dataset)\u001b[0m\n\u001b[1;32m    379\u001b[0m \u001b[0;34m\u001b[0m\u001b[0m\n\u001b[1;32m    380\u001b[0m     \u001b[0;32mdef\u001b[0m \u001b[0m_fit\u001b[0m\u001b[0;34m(\u001b[0m\u001b[0mself\u001b[0m\u001b[0;34m,\u001b[0m \u001b[0mdataset\u001b[0m\u001b[0;34m:\u001b[0m \u001b[0mDataFrame\u001b[0m\u001b[0;34m)\u001b[0m \u001b[0;34m->\u001b[0m \u001b[0mJM\u001b[0m\u001b[0;34m:\u001b[0m\u001b[0;34m\u001b[0m\u001b[0;34m\u001b[0m\u001b[0m\n\u001b[0;32m--> 381\u001b[0;31m         \u001b[0mjava_model\u001b[0m \u001b[0;34m=\u001b[0m \u001b[0mself\u001b[0m\u001b[0;34m.\u001b[0m\u001b[0m_fit_java\u001b[0m\u001b[0;34m(\u001b[0m\u001b[0mdataset\u001b[0m\u001b[0;34m)\u001b[0m\u001b[0;34m\u001b[0m\u001b[0;34m\u001b[0m\u001b[0m\n\u001b[0m\u001b[1;32m    382\u001b[0m         \u001b[0mmodel\u001b[0m \u001b[0;34m=\u001b[0m \u001b[0mself\u001b[0m\u001b[0;34m.\u001b[0m\u001b[0m_create_model\u001b[0m\u001b[0;34m(\u001b[0m\u001b[0mjava_model\u001b[0m\u001b[0;34m)\u001b[0m\u001b[0;34m\u001b[0m\u001b[0;34m\u001b[0m\u001b[0m\n\u001b[1;32m    383\u001b[0m         \u001b[0;32mreturn\u001b[0m \u001b[0mself\u001b[0m\u001b[0;34m.\u001b[0m\u001b[0m_copyValues\u001b[0m\u001b[0;34m(\u001b[0m\u001b[0mmodel\u001b[0m\u001b[0;34m)\u001b[0m\u001b[0;34m\u001b[0m\u001b[0;34m\u001b[0m\u001b[0m\n",
            "\u001b[0;32m/usr/local/lib/python3.11/dist-packages/pyspark/ml/wrapper.py\u001b[0m in \u001b[0;36m_fit_java\u001b[0;34m(self, dataset)\u001b[0m\n\u001b[1;32m    376\u001b[0m \u001b[0;34m\u001b[0m\u001b[0m\n\u001b[1;32m    377\u001b[0m         \u001b[0mself\u001b[0m\u001b[0;34m.\u001b[0m\u001b[0m_transfer_params_to_java\u001b[0m\u001b[0;34m(\u001b[0m\u001b[0;34m)\u001b[0m\u001b[0;34m\u001b[0m\u001b[0;34m\u001b[0m\u001b[0m\n\u001b[0;32m--> 378\u001b[0;31m         \u001b[0;32mreturn\u001b[0m \u001b[0mself\u001b[0m\u001b[0;34m.\u001b[0m\u001b[0m_java_obj\u001b[0m\u001b[0;34m.\u001b[0m\u001b[0mfit\u001b[0m\u001b[0;34m(\u001b[0m\u001b[0mdataset\u001b[0m\u001b[0;34m.\u001b[0m\u001b[0m_jdf\u001b[0m\u001b[0;34m)\u001b[0m\u001b[0;34m\u001b[0m\u001b[0;34m\u001b[0m\u001b[0m\n\u001b[0m\u001b[1;32m    379\u001b[0m \u001b[0;34m\u001b[0m\u001b[0m\n\u001b[1;32m    380\u001b[0m     \u001b[0;32mdef\u001b[0m \u001b[0m_fit\u001b[0m\u001b[0;34m(\u001b[0m\u001b[0mself\u001b[0m\u001b[0;34m,\u001b[0m \u001b[0mdataset\u001b[0m\u001b[0;34m:\u001b[0m \u001b[0mDataFrame\u001b[0m\u001b[0;34m)\u001b[0m \u001b[0;34m->\u001b[0m \u001b[0mJM\u001b[0m\u001b[0;34m:\u001b[0m\u001b[0;34m\u001b[0m\u001b[0;34m\u001b[0m\u001b[0m\n",
            "\u001b[0;32m/usr/local/lib/python3.11/dist-packages/py4j/java_gateway.py\u001b[0m in \u001b[0;36m__call__\u001b[0;34m(self, *args)\u001b[0m\n\u001b[1;32m   1320\u001b[0m \u001b[0;34m\u001b[0m\u001b[0m\n\u001b[1;32m   1321\u001b[0m         \u001b[0manswer\u001b[0m \u001b[0;34m=\u001b[0m \u001b[0mself\u001b[0m\u001b[0;34m.\u001b[0m\u001b[0mgateway_client\u001b[0m\u001b[0;34m.\u001b[0m\u001b[0msend_command\u001b[0m\u001b[0;34m(\u001b[0m\u001b[0mcommand\u001b[0m\u001b[0;34m)\u001b[0m\u001b[0;34m\u001b[0m\u001b[0;34m\u001b[0m\u001b[0m\n\u001b[0;32m-> 1322\u001b[0;31m         return_value = get_return_value(\n\u001b[0m\u001b[1;32m   1323\u001b[0m             answer, self.gateway_client, self.target_id, self.name)\n\u001b[1;32m   1324\u001b[0m \u001b[0;34m\u001b[0m\u001b[0m\n",
            "\u001b[0;32m/usr/local/lib/python3.11/dist-packages/pyspark/errors/exceptions/captured.py\u001b[0m in \u001b[0;36mdeco\u001b[0;34m(*a, **kw)\u001b[0m\n\u001b[1;32m    177\u001b[0m     \u001b[0;32mdef\u001b[0m \u001b[0mdeco\u001b[0m\u001b[0;34m(\u001b[0m\u001b[0;34m*\u001b[0m\u001b[0ma\u001b[0m\u001b[0;34m:\u001b[0m \u001b[0mAny\u001b[0m\u001b[0;34m,\u001b[0m \u001b[0;34m**\u001b[0m\u001b[0mkw\u001b[0m\u001b[0;34m:\u001b[0m \u001b[0mAny\u001b[0m\u001b[0;34m)\u001b[0m \u001b[0;34m->\u001b[0m \u001b[0mAny\u001b[0m\u001b[0;34m:\u001b[0m\u001b[0;34m\u001b[0m\u001b[0;34m\u001b[0m\u001b[0m\n\u001b[1;32m    178\u001b[0m         \u001b[0;32mtry\u001b[0m\u001b[0;34m:\u001b[0m\u001b[0;34m\u001b[0m\u001b[0;34m\u001b[0m\u001b[0m\n\u001b[0;32m--> 179\u001b[0;31m             \u001b[0;32mreturn\u001b[0m \u001b[0mf\u001b[0m\u001b[0;34m(\u001b[0m\u001b[0;34m*\u001b[0m\u001b[0ma\u001b[0m\u001b[0;34m,\u001b[0m \u001b[0;34m**\u001b[0m\u001b[0mkw\u001b[0m\u001b[0;34m)\u001b[0m\u001b[0;34m\u001b[0m\u001b[0;34m\u001b[0m\u001b[0m\n\u001b[0m\u001b[1;32m    180\u001b[0m         \u001b[0;32mexcept\u001b[0m \u001b[0mPy4JJavaError\u001b[0m \u001b[0;32mas\u001b[0m \u001b[0me\u001b[0m\u001b[0;34m:\u001b[0m\u001b[0;34m\u001b[0m\u001b[0;34m\u001b[0m\u001b[0m\n\u001b[1;32m    181\u001b[0m             \u001b[0mconverted\u001b[0m \u001b[0;34m=\u001b[0m \u001b[0mconvert_exception\u001b[0m\u001b[0;34m(\u001b[0m\u001b[0me\u001b[0m\u001b[0;34m.\u001b[0m\u001b[0mjava_exception\u001b[0m\u001b[0;34m)\u001b[0m\u001b[0;34m\u001b[0m\u001b[0;34m\u001b[0m\u001b[0m\n",
            "\u001b[0;32m/usr/local/lib/python3.11/dist-packages/py4j/protocol.py\u001b[0m in \u001b[0;36mget_return_value\u001b[0;34m(answer, gateway_client, target_id, name)\u001b[0m\n\u001b[1;32m    324\u001b[0m             \u001b[0mvalue\u001b[0m \u001b[0;34m=\u001b[0m \u001b[0mOUTPUT_CONVERTER\u001b[0m\u001b[0;34m[\u001b[0m\u001b[0mtype\u001b[0m\u001b[0;34m]\u001b[0m\u001b[0;34m(\u001b[0m\u001b[0manswer\u001b[0m\u001b[0;34m[\u001b[0m\u001b[0;36m2\u001b[0m\u001b[0;34m:\u001b[0m\u001b[0;34m]\u001b[0m\u001b[0;34m,\u001b[0m \u001b[0mgateway_client\u001b[0m\u001b[0;34m)\u001b[0m\u001b[0;34m\u001b[0m\u001b[0;34m\u001b[0m\u001b[0m\n\u001b[1;32m    325\u001b[0m             \u001b[0;32mif\u001b[0m \u001b[0manswer\u001b[0m\u001b[0;34m[\u001b[0m\u001b[0;36m1\u001b[0m\u001b[0;34m]\u001b[0m \u001b[0;34m==\u001b[0m \u001b[0mREFERENCE_TYPE\u001b[0m\u001b[0;34m:\u001b[0m\u001b[0;34m\u001b[0m\u001b[0;34m\u001b[0m\u001b[0m\n\u001b[0;32m--> 326\u001b[0;31m                 raise Py4JJavaError(\n\u001b[0m\u001b[1;32m    327\u001b[0m                     \u001b[0;34m\"An error occurred while calling {0}{1}{2}.\\n\"\u001b[0m\u001b[0;34m.\u001b[0m\u001b[0;34m\u001b[0m\u001b[0;34m\u001b[0m\u001b[0m\n\u001b[1;32m    328\u001b[0m                     format(target_id, \".\", name), value)\n",
            "\u001b[0;31mPy4JJavaError\u001b[0m: An error occurred while calling o1077.fit.\n: java.lang.OutOfMemoryError: Java heap space\n\tat scala.reflect.ManifestFactory$DoubleManifest.newArray(Manifest.scala:194)\n\tat scala.reflect.ManifestFactory$DoubleManifest.newArray(Manifest.scala:191)\n\tat scala.Array$.ofDim(Array.scala:305)\n\tat org.apache.spark.ml.stat.MultiClassSummarizer.histogram(MultiClassSummarizer.scala:89)\n\tat org.apache.spark.ml.classification.LogisticRegression.$anonfun$train$1(LogisticRegression.scala:520)\n\tat org.apache.spark.ml.classification.LogisticRegression$$Lambda$4092/0x00000008417cb840.apply(Unknown Source)\n\tat org.apache.spark.ml.util.Instrumentation$.$anonfun$instrumented$1(Instrumentation.scala:191)\n\tat org.apache.spark.ml.util.Instrumentation$$$Lambda$4093/0x00000008417cb440.apply(Unknown Source)\n\tat scala.util.Try$.apply(Try.scala:213)\n\tat org.apache.spark.ml.util.Instrumentation$.instrumented(Instrumentation.scala:191)\n\tat org.apache.spark.ml.classification.LogisticRegression.train(LogisticRegression.scala:497)\n\tat org.apache.spark.ml.classification.LogisticRegression.train(LogisticRegression.scala:287)\n\tat org.apache.spark.ml.Predictor.fit(Predictor.scala:114)\n\tat java.base/jdk.internal.reflect.NativeMethodAccessorImpl.invoke0(Native Method)\n\tat java.base/jdk.internal.reflect.NativeMethodAccessorImpl.invoke(NativeMethodAccessorImpl.java:62)\n\tat java.base/jdk.internal.reflect.DelegatingMethodAccessorImpl.invoke(DelegatingMethodAccessorImpl.java:43)\n\tat java.base/java.lang.reflect.Method.invoke(Method.java:566)\n\tat py4j.reflection.MethodInvoker.invoke(MethodInvoker.java:244)\n\tat py4j.reflection.ReflectionEngine.invoke(ReflectionEngine.java:374)\n\tat py4j.Gateway.invoke(Gateway.java:282)\n\tat py4j.commands.AbstractCommand.invokeMethod(AbstractCommand.java:132)\n\tat py4j.commands.CallCommand.execute(CallCommand.java:79)\n\tat py4j.ClientServerConnection.waitForCommands(ClientServerConnection.java:182)\n\tat py4j.ClientServerConnection.run(ClientServerConnection.java:106)\n\tat java.base/java.lang.Thread.run(Thread.java:829)\n"
          ]
        }
      ],
      "source": [
        "\n",
        "#lr = LogisticRegression(featuresCol=\"features\", labelCol=\"id\", maxIter=20, regParam=0.1)\n",
        "#model = lr.fit(train_data)"
      ]
    },
    {
      "cell_type": "code",
      "execution_count": null,
      "metadata": {
        "id": "yJtWWzN-o_VR"
      },
      "outputs": [],
      "source": []
    },
    {
      "cell_type": "code",
      "execution_count": null,
      "metadata": {
        "id": "c0UXCRfrPuzH"
      },
      "outputs": [],
      "source": [
        "\n",
        "\n",
        "\n",
        "\n",
        "# Test on test set\n",
        "test_data = assembler.transform(dfs_test_clean).select(\"features\", \"id\")\n",
        "predictions = model.transform(test_data)\n",
        "\n",
        "# Evaluate model\n",
        "evaluator = MulticlassClassificationEvaluator(labelCol=\"id\", predictionCol=\"prediction\", metricName=\"f1\")\n",
        "\n",
        "f1 = evaluator.evaluate(predictions)\n",
        "precision = evaluator.evaluate(predictions, {evaluator.metricName: \"weightedPrecision\"})\n",
        "recall = evaluator.evaluate(predictions, {evaluator.metricName: \"weightedRecall\"})\n",
        "\n",
        "print(f\"F1 Score: {f1}\")\n",
        "print(f\"Precision: {precision}\")\n",
        "print(f\"Recall: {recall}\")\n",
        "\n",
        "# Validate on validation set\n",
        "validation_data = assembler.transform(dfs_validation_clean).select(\"features\", \"id\")\n",
        "validation_predictions = model.transform(validation_data)\n",
        "\n",
        "f1_val = evaluator.evaluate(validation_predictions)\n",
        "precision_val = evaluator.evaluate(validation_predictions, {evaluator.metricName: \"weightedPrecision\"})\n",
        "recall_val = evaluator.evaluate(validation_predictions, {evaluator.metricName: \"weightedRecall\"})\n",
        "\n",
        "print(f\"Validation F1 Score: {f1_val}\")\n",
        "print(f\"Validation Precision: {precision_val}\")\n",
        "print(f\"Validation Recall: {recall_val}\")\n",
        "\n",
        "# Clear cache to free memory\n",
        "dfs_train_clean.unpersist()\n",
        "dfs_test_clean.unpersist()\n",
        "dfs_validation_clean.unpersist()"
      ]
    },
    {
      "cell_type": "code",
      "execution_count": null,
      "metadata": {
        "id": "YEP3xhGmKyX-"
      },
      "outputs": [],
      "source": [
        "\n",
        "# Generate binary indicator columns for each category\n",
        "all_categories = dfs_train_clean.select(explode(\"categories\")).distinct().rdd.flatMap(lambda x: x).collect()\n",
        "\n",
        "for category in all_categories:\n",
        "    clean_cat = category.replace('-', '_').replace('.', '_')\n",
        "    dfs_train_clean = dfs_train_clean.withColumn(f\"has_{clean_cat}\", array_contains(col(\"categories\"), category).cast(\"integer\"))\n",
        "    dfs_test_clean = dfs_test_clean.withColumn(f\"has_{clean_cat}\", array_contains(col(\"categories\"), category).cast(\"integer\"))\n",
        "    dfs_validation_clean = dfs_validation_clean.withColumn(f\"has_{clean_cat}\", array_contains(col(\"categories\"), category).cast(\"integer\"))\n",
        "\n",
        "# Select feature columns\n",
        "feature_cols = [f\"has_{cat.replace('-', '_').replace('.', '_')}\" for cat in all_categories]\n",
        "\n",
        "# Train Logistic Regression Model\n",
        "assembler = VectorAssembler(inputCols=feature_cols, outputCol=\"features\")\n",
        "train_data = assembler.transform(dfs_train_clean).select(\"features\", \"id\")\n",
        "\n",
        "lr = LogisticRegression(featuresCol=\"features\", labelCol=\"id\")\n",
        "model = lr.fit(train_data)\n",
        "\n",
        "# Test on test set\n",
        "test_data = assembler.transform(dfs_test_clean).select(\"features\", \"id\")\n",
        "predictions = model.transform(test_data)\n",
        "\n",
        "# Evaluate model\n",
        "evaluator = MulticlassClassificationEvaluator(labelCol=\"id\", predictionCol=\"prediction\", metricName=\"f1\")\n",
        "\n",
        "f1 = evaluator.evaluate(predictions)\n",
        "precision = evaluator.evaluate(predictions, {evaluator.metricName: \"weightedPrecision\"})\n",
        "recall = evaluator.evaluate(predictions, {evaluator.metricName: \"weightedRecall\"})\n",
        "\n",
        "print(f\"F1 Score: {f1}\")\n",
        "print(f\"Precision: {precision}\")\n",
        "print(f\"Recall: {recall}\")\n",
        "\n",
        "# Validate on validation set\n",
        "validation_data = assembler.transform(dfs_validation_clean).select(\"features\", \"id\")\n",
        "validation_predictions = model.transform(validation_data)\n",
        "\n",
        "f1_val = evaluator.evaluate(validation_predictions)\n",
        "precision_val = evaluator.evaluate(validation_predictions, {evaluator.metricName: \"weightedPrecision\"})\n",
        "recall_val = evaluator.evaluate(validation_predictions, {evaluator.metricName: \"weightedRecall\"})\n",
        "\n",
        "print(f\"Validation F1 Score: {f1_val}\")\n",
        "print(f\"Validation Precision: {precision_val}\")\n",
        "print(f\"Validation Recall: {recall_val}\")"
      ]
    },
    {
      "cell_type": "code",
      "execution_count": null,
      "metadata": {
        "id": "Tq7X4GbkTyjW"
      },
      "outputs": [],
      "source": [
        "# Add me back later, if needed. Initialize Spark session. Display the schema to understand the data structure\n",
        "#dfp_train.printSchema()  Let's extract the categories from label_codes. First, we need to convert the string representation of label codes to actual lists. Then We'll use a UDF (User Defined Function) for this\n",
        "def clean_categories(categories):\n",
        "  return categories.replace('-', '_').replace('.', '_')\n",
        "\n",
        "#Extract just the category part from each label code\n",
        "@udf(returnType=ArrayType(StringType()))\n",
        "def extract_categories(label_codes):\n",
        "\n",
        "    # Convert string representation to list\n",
        "    if isinstance(label_codes, str):\n",
        "        codes = ast.literal_eval(label_codes)#\n",
        "\n",
        "        # Extract category part (remove the sentiment indicator at the end)\n",
        "        categories = [code.rsplit('.', 1)[0] for code in codes]\n",
        "\n",
        "        categories = clean_categories(categories)\n",
        "        return categories\n",
        "    return []"
      ]
    },
    {
      "cell_type": "code",
      "execution_count": null,
      "metadata": {
        "id": "Zd7M82pWT78Y"
      },
      "outputs": [],
      "source": []
    },
    {
      "cell_type": "code",
      "execution_count": null,
      "metadata": {
        "id": "Ky-gnLs4JDV1"
      },
      "outputs": [],
      "source": [
        "import ast\n",
        "\n",
        "# Convert 'label_codes' from string to list\n",
        "dfs_train['label_codes'] = dfs_train['label_codes'].apply(\n",
        "    lambda x: ast.literal_eval(x) if isinstance(x, str) else x\n",
        ")\n",
        "\n",
        "# Extract categories and clean them\n",
        "def extract_categories(label_codes):\n",
        "    return [\n",
        "        code.rsplit('.', 1)[0].replace('-', '_').replace('.', '_')\n",
        "        for code in label_codes\n",
        "    ]\n",
        "\n",
        "# Apply the function to create a 'categories' column\n",
        "dfp_train['categories'] = dfp_train['label_codes'].apply(extract_categories)"
      ]
    },
    {
      "cell_type": "code",
      "execution_count": null,
      "metadata": {
        "id": "gH6mayVWnipM"
      },
      "outputs": [],
      "source": [
        "\n",
        "#dfs_train = spark.createDataFrame(dfp_train)     #pandas df has no ... withColumn so we need to convert it - Oops it's not a pandas df, it's a pyarrow Table that needs to be first converted to a pandas df\n",
        "#dfp_train = dfp_train.to_pandas()\n",
        "#dfs_train = spark.createDataFrame(dfp_train)\n",
        "##It seems that the to_pandas method is not available for Spark DataFrames -  use the collect method to convert the Spark DataFrame to a Pandas DataFrame:\n",
        "\n",
        "# Convert Spark DataFrame to Pandas\n",
        "dfp_train = spark.read.parquet(parquet_train_file).toPandas()\n",
        "print ( dfp_train.columns)\n",
        "# For each category, create a binary indicator column (1 if present, 0 if not)\n",
        "print(dfp_train.head(10))\n",
        "\n"
      ]
    },
    {
      "cell_type": "code",
      "execution_count": null,
      "metadata": {
        "id": "V6JHSyWfJi6K"
      },
      "outputs": [],
      "source": [
        "## Add me back later, if needed. Initialize Spark session. Display the schema to understand the data structure\n",
        "##dfp_train.printSchema()  Let's extract the categories from label_codes. First, we need to convert the string representation of label codes to actual lists. Then We'll use a UDF (User Defined Function) for this\n",
        "#def clean_categories(categories):\n",
        "#  return categories.replace('-', '_').replace('.', '_')\n",
        "#\n",
        "##Extract just the category part from each label code\n",
        "#@udf(returnType=ArrayType(StringType()))\n",
        "#def extract_categories(label_codes):\n",
        "#\n",
        "#    # Convert string representation to list\n",
        "#    if isinstance(label_codes, str):\n",
        "#        codes = ast.literal_eval(label_codes)#\n",
        "#\n",
        "#        # Extract category part (remove the sentiment indicator at the end)\n",
        "#        categories = [code.rsplit('.', 1)[0] for code in codes]\n",
        "#\n",
        "#        categories = clean_categories(categories)\n",
        "#        return categories\n",
        "#    return []"
      ]
    },
    {
      "cell_type": "code",
      "execution_count": null,
      "metadata": {
        "id": "oSDhKNxTpY3R"
      },
      "outputs": [],
      "source": [
        "#df_with_categories = dfs_train.withColumn(\"categories\", extract_categories(col(\"label_codes\")))\n",
        "# Create a list of all unique categories from the dataset\n",
        "df_with_categories.printSchema()\n",
        "#all_categories = df_with_categories.select(explode(\"categories\")).distinct().collect()\n",
        "#all_categories = [row[0] for row in all_categories]\n"
      ]
    },
    {
      "cell_type": "code",
      "execution_count": null,
      "metadata": {
        "id": "cye52wMXoiFh"
      },
      "outputs": [],
      "source": [
        "# ACD + ABSA Full Pipeline (SVM, LSTM, and CNN Models) - Optimized for Speed\n",
        "\n",
        "from pyspark.sql.functions import col, array_contains\n",
        "from pyspark.ml.feature import Tokenizer, HashingTF, IDF\n",
        "from pyspark.ml.classification import LinearSVC\n",
        "from tensorflow.keras.models import Sequential\n",
        "from tensorflow.keras.layers import LSTM, Dense, Dropout, Conv1D, GlobalMaxPooling1D\n",
        "import numpy as np\n",
        "import tensorflow as tf\n",
        "import matplotlib.pyplot as plt\n",
        "import ast\n",
        "\n",
        "# Step 1: Aspect Category Detection (ACD) with Clean Column Names\n",
        "for aspect in all_categories:\n",
        "    clean_aspect = aspect.replace('-', '_').replace('.', '_')\n",
        "    df_with_categories = df_with_categories.withColumn(\n",
        "        f\"has_{clean_aspect}\", array_contains(col(\"categories\"), aspect).cast(\"integer\")\n",
        "    )\n",
        "\n",
        "# Step 2: Extract Sentiment for Each Category\n",
        "\n",
        "# Extract 'label_codes' from the original Spark DataFrame\n",
        "#label_codes_df = df_with_categories.select('id', 'label_codes').toPandas()\n",
        "label_codes_df = df_with_categories.select('id', 'label_codes', 'categories').toPandas()\n",
        "print(label_codes_df)\n",
        "\n",
        "# Merge with train_pandas using the 'id' column\n",
        "train_pandas = train_pandas.merge(label_codes_df, on='id', how='left')\n",
        "\n",
        "def extract_aspect_and_sentiment(label_codes):\n",
        "    if isinstance(label_codes, str):\n",
        "        codes = ast.literal_eval(label_codes)\n",
        "        return [(code.rsplit('.', 1)[0], int(code.rsplit('.', 1)[-1])) for code in codes]\n",
        "    return []\n",
        "\n",
        "train_pandas['aspect_sentiment_pairs'] = train_pandas['label_codes'].apply(extract_aspect_and_sentiment)\n",
        "\n",
        "# For each category, create a sentiment column (-1, 0, or 1)\n",
        "for aspect in all_categories:\n",
        "    clean_aspect = aspect.replace('-', '_').replace('.', '_')\n",
        "    train_pandas[f\"sentiment_{clean_aspect}\"] = train_pandas['aspect_sentiment_pairs'].apply(\n",
        "        lambda x: next((sent for asp, sent in x if asp == aspect), 0)\n",
        "    )\n",
        "\n",
        "# Step 3: Convert to Pandas for Deep Learning\n",
        "#train_pandas = train_data.limit(1000).toPandas()  # Limit data for speed\n",
        "#test_pandas = test_data.limit(200).toPandas()\n",
        "train_pandas = df_with_categories.limit(1000).toPandas()\n",
        "test_pandas = df_with_categories.limit(200).toPandas()\n",
        "\n",
        "# Convert sparse vector to numpy array\n",
        "def sparse_to_array(v):\n",
        "    return v.toArray() if hasattr(v, \"toArray\") else v\n",
        "\n",
        "train_pandas['features_array'] = train_pandas['features'].apply(sparse_to_array)\n",
        "test_pandas['features_array'] = test_pandas['features'].apply(sparse_to_array)\n",
        "\n",
        "# Step 4: LSTM Model for ABSA with Reduced Complexity\n",
        "X_train = np.stack(train_pandas['features_array'].values)\n",
        "y_train = train_pandas[label_cols].values\n",
        "\n",
        "X_test = np.stack(test_pandas['features_array'].values)\n",
        "y_test = test_pandas[label_cols].values\n",
        "\n",
        "lstm_model = Sequential([\n",
        "    LSTM(64, input_shape=(X_train.shape[1], 1), return_sequences=False),  # Reduced LSTM units\n",
        "    Dropout(0.2),\n",
        "    Dense(len(label_cols), activation='sigmoid')\n",
        "])\n",
        "\n",
        "lstm_model.compile(optimizer='adam', loss='binary_crossentropy', metrics=['accuracy'])\n",
        "history_lstm = lstm_model.fit(X_train, y_train, epochs=5, batch_size=32, verbose=0)  # Fewer epochs\n",
        "\n",
        "# Step 5: CNN Model for ABSA with Faster Conv1D\n",
        "cnn_model = Sequential([\n",
        "    Conv1D(32, 3, activation='relu', input_shape=(X_train.shape[1], 1)),  # Reduced filters\n",
        "    GlobalMaxPooling1D(),\n",
        "    Dense(len(label_cols), activation='sigmoid')\n",
        "])\n",
        "\n",
        "cnn_model.compile(optimizer='adam', loss='binary_crossentropy', metrics=['accuracy'])\n",
        "history_cnn = cnn_model.fit(X_train, y_train, epochs=5, batch_size=32, verbose=0)\n",
        "\n",
        "# Step 6: Compare Models\n",
        "svm_model = train_absa_svm(\"battery_life\", df_with_categories)\n",
        "\n",
        "print(\"SVM Model Trained\")\n",
        "print(\"LSTM Accuracy:\", lstm_model.evaluate(X_test, y_test, verbose=0))\n",
        "print(\"CNN Accuracy:\", cnn_model.evaluate(X_test, y_test, verbose=0))\n",
        "\n",
        "# Step 7: Visualizations\n",
        "plt.figure(figsize=(10, 5))\n",
        "\n",
        "# Plot LSTM Loss\n",
        "plt.subplot(1, 2, 1)\n",
        "plt.plot(history_lstm.history['loss'], label='LSTM Loss')\n",
        "plt.title('LSTM Loss Over Epochs')\n",
        "plt.xlabel('Epochs')\n",
        "plt.ylabel('Loss')\n",
        "plt.legend()\n",
        "\n",
        "# Plot CNN Accuracy\n",
        "plt.subplot(1, 2, 2)\n",
        "plt.plot(history_cnn.history['accuracy'], label='CNN Accuracy')\n",
        "plt.title('CNN Accuracy Over Epochs')\n",
        "plt.xlabel('Epochs')\n",
        "plt.ylabel('Accuracy')\n",
        "plt.legend()\n",
        "\n",
        "plt.tight_layout()\n",
        "plt.show()\n"
      ]
    },
    {
      "cell_type": "markdown",
      "metadata": {
        "id": "gfeFLTrL-i_U"
      },
      "source": [
        "PRINT ALL CATEGORIES FOUND"
      ]
    },
    {
      "cell_type": "code",
      "execution_count": null,
      "metadata": {
        "id": "fd0-2x4Lu2ys"
      },
      "outputs": [],
      "source": [
        "for cat in all_categories:\n",
        "  print(cat + '\\n')"
      ]
    },
    {
      "cell_type": "code",
      "execution_count": null,
      "metadata": {
        "id": "suGL6w1BwrI8"
      },
      "outputs": [],
      "source": [
        "# For each category, create a binary indicator column (1 if present, 0 if not)\n",
        "for cat in all_categories:\n",
        "    df_with_categories = df_with_categories.withColumn(\n",
        "        f\"has_{cat.replace('-', '_').replace('.', '_')}\",\n",
        "        array_contains(col(\"categories\"), cat).cast(\"integer\")\n",
        "    )\n"
      ]
    },
    {
      "cell_type": "code",
      "execution_count": null,
      "metadata": {
        "id": "E0u6elBY-uWj"
      },
      "outputs": [],
      "source": [
        "for cat in all_categories:\n",
        "  print(cat + '\\n')"
      ]
    },
    {
      "cell_type": "code",
      "execution_count": null,
      "metadata": {
        "id": "vM7ZkSlToFeK"
      },
      "outputs": [],
      "source": [
        "print(train_pandas.columns)"
      ]
    },
    {
      "cell_type": "code",
      "execution_count": null,
      "metadata": {
        "id": "BYsspjOVnkvd"
      },
      "outputs": [],
      "source": [
        "#\n",
        "FIX ME TODAY\n",
        "# ACD + ABSA Full Pipeline (SVM, LSTM, and CNN Models) - Optimized for Speed\n",
        "\n",
        "from pyspark.sql.functions import col, array_contains\n",
        "from pyspark.ml.feature import Tokenizer, HashingTF, IDF\n",
        "from pyspark.ml.classification import LinearSVC\n",
        "from tensorflow.keras.models import Sequential\n",
        "from tensorflow.keras.layers import LSTM, Dense, Dropout, Conv1D, GlobalMaxPooling1D\n",
        "import numpy as np\n",
        "import tensorflow as tf\n",
        "import matplotlib.pyplot as plt\n",
        "import ast\n",
        "\n",
        "# Step 1: Aspect Category Detection (ACD) with Clean Column Names\n",
        "for aspect in all_categories:\n",
        "    clean_aspect = aspect.replace('-', '_').replace('.', '_')\n",
        "    df_with_categories = df_with_categories.withColumn(\n",
        "        f\"has_{clean_aspect}\", array_contains(col(\"categories\"), aspect).cast(\"integer\")\n",
        "    )\n",
        "\n",
        "# Step 2: Extract Sentiment for Each Category\n",
        "\n",
        "def extract_aspect_and_sentiment(label_codes):\n",
        "    if isinstance(label_codes, str):\n",
        "        codes = ast.literal_eval(label_codes)\n",
        "        return [(code.rsplit('.', 1)[0], int(code.rsplit('.', 1)[-1])) for code in codes]\n",
        "    return []\n",
        "\n",
        "train_pandas['aspect_sentiment_pairs'] = train_pandas['label_codes'].apply(extract_aspect_and_sentiment)\n",
        "\n",
        "# For each category, create a sentiment column (-1, 0, or 1)\n",
        "for aspect in all_categories:\n",
        "    clean_aspect = aspect.replace('-', '_').replace('.', '_')\n",
        "    train_pandas[f\"sentiment_{clean_aspect}\"] = train_pandas['aspect_sentiment_pairs'].apply(\n",
        "        lambda x: next((sent for asp, sent in x if asp == aspect), 0)\n",
        "    )\n",
        "\n",
        "# Step 3: Convert to Pandas for Deep Learning\n",
        "train_pandas = train_data.limit(1000).toPandas()  # Limit data for speed\n",
        "test_pandas = test_data.limit(200).toPandas()\n",
        "\n",
        "# Convert sparse vector to numpy array\n",
        "def sparse_to_array(v):\n",
        "    return v.toArray() if hasattr(v, \"toArray\") else v\n",
        "\n",
        "train_pandas['features_array'] = train_pandas['features'].apply(sparse_to_array)\n",
        "test_pandas['features_array'] = test_pandas['features'].apply(sparse_to_array)\n",
        "\n",
        "# Step 4: LSTM Model for ABSA with Reduced Complexity\n",
        "X_train = np.stack(train_pandas['features_array'].values)\n",
        "y_train = train_pandas[label_cols].values\n",
        "\n",
        "X_test = np.stack(test_pandas['features_array'].values)\n",
        "y_test = test_pandas[label_cols].values\n",
        "\n",
        "lstm_model = Sequential([\n",
        "    LSTM(64, input_shape=(X_train.shape[1], 1), return_sequences=False),  # Reduced LSTM units\n",
        "    Dropout(0.2),\n",
        "    Dense(len(label_cols), activation='sigmoid')\n",
        "])\n",
        "\n",
        "lstm_model.compile(optimizer='adam', loss='binary_crossentropy', metrics=['accuracy'])\n",
        "history_lstm = lstm_model.fit(X_train, y_train, epochs=5, batch_size=32, verbose=0)  # Fewer epochs\n",
        "\n",
        "# Step 5: CNN Model for ABSA with Faster Conv1D\n",
        "cnn_model = Sequential([\n",
        "    Conv1D(32, 3, activation='relu', input_shape=(X_train.shape[1], 1)),  # Reduced filters\n",
        "    GlobalMaxPooling1D(),\n",
        "    Dense(len(label_cols), activation='sigmoid')\n",
        "])\n",
        "\n",
        "cnn_model.compile(optimizer='adam', loss='binary_crossentropy', metrics=['accuracy'])\n",
        "history_cnn = cnn_model.fit(X_train, y_train, epochs=5, batch_size=32, verbose=0)\n",
        "\n",
        "# Step 6: Compare Models\n",
        "svm_model = train_absa_svm(\"battery_life\", df_with_categories)\n",
        "\n",
        "print(\"SVM Model Trained\")\n",
        "print(\"LSTM Accuracy:\", lstm_model.evaluate(X_test, y_test, verbose=0))\n",
        "print(\"CNN Accuracy:\", cnn_model.evaluate(X_test, y_test, verbose=0))\n",
        "\n",
        "# Step 7: Visualizations\n",
        "plt.figure(figsize=(10, 5))\n",
        "\n",
        "# Plot LSTM Loss\n",
        "plt.subplot(1, 2, 1)\n",
        "plt.plot(history_lstm.history['loss'], label='LSTM Loss')\n",
        "plt.title('LSTM Loss Over Epochs')\n",
        "plt.xlabel('Epochs')\n",
        "plt.ylabel('Loss')\n",
        "plt.legend()\n",
        "\n",
        "# Plot CNN Accuracy\n",
        "plt.subplot(1, 2, 2)\n",
        "plt.plot(history_cnn.history['accuracy'], label='CNN Accuracy')\n",
        "plt.title('CNN Accuracy Over Epochs')\n",
        "plt.xlabel('Epochs')\n",
        "plt.ylabel('Accuracy')\n",
        "plt.legend()\n",
        "\n",
        "plt.tight_layout()\n",
        "plt.show()\n"
      ]
    },
    {
      "cell_type": "markdown",
      "metadata": {
        "id": "QbOTD5kNXdfx"
      },
      "source": [
        "Tokenize the user comments from the text column and remove stop words."
      ]
    },
    {
      "cell_type": "code",
      "execution_count": null,
      "metadata": {
        "id": "gw5lYX0_LauT"
      },
      "outputs": [],
      "source": [
        "\n",
        "from pyspark.ml.feature import Tokenizer, StopWordsRemover\n",
        "\n",
        "# Select relevant columns for the ACD task\n",
        "feature_cols = [f\"has_{category.replace('-', '_').replace('.', '_')}\" for category in all_categories]\n",
        "acd_df = df_with_categories.select(\"id\", \"text\", *feature_cols)\n",
        "\n",
        "# Convert text to features using TF-IDF\n",
        "# First, tokenize the text\n",
        "from pyspark.ml.feature import Tokenizer, StopWordsRemover\n",
        "\n",
        "tokenizer = Tokenizer(inputCol=\"text\", outputCol=\"words\")\n",
        "wordsData = tokenizer.transform(acd_df)\n",
        "\n",
        "# Remove stop words\n",
        "remover = StopWordsRemover(inputCol=\"words\", outputCol=\"filtered_words\")\n",
        "filtered_data = remover.transform(wordsData)\n",
        "\n",
        "# Convert words to term frequency features\n",
        "cv = CountVectorizer(inputCol=\"filtered_words\", outputCol=\"tf\", minDF=2.0)\n",
        "cv_model = cv.fit(filtered_data)\n",
        "tf_data = cv_model.transform(filtered_data)\n",
        "\n",
        "# Convert term frequency features to TF-IDF\n",
        "idf = IDF(inputCol=\"tf\", outputCol=\"features\")\n",
        "idf_model = idf.fit(tf_data)\n",
        "tfidf_data = idf_model.transform(tf_data)\n",
        "\n",
        "# Final dataset ready for modeling\n",
        "final_acd_df = tfidf_data.select(\"id\", \"features\", *feature_cols)\n",
        "\n",
        "# Split the data into training and testing sets\n",
        "train_data, test_data = final_acd_df.randomSplit([0.8, 0.2], seed=42)\n",
        "\n",
        "# Cache the datasets for faster processing\n",
        "train_data.cache()\n",
        "test_data.cache()\n"
      ]
    },
    {
      "cell_type": "code",
      "execution_count": null,
      "metadata": {
        "id": "TIddta9BZVDZ"
      },
      "outputs": [],
      "source": [
        "#final_acd_df.show(5)\n"
      ]
    },
    {
      "cell_type": "code",
      "execution_count": null,
      "metadata": {
        "id": "cCPtQoKDXbiF"
      },
      "outputs": [],
      "source": [
        "#Since you're working with text data, you'll need to extract relevant features from each document. Some common techniques include:\n",
        "#Tokenization (splitting text into individual words or tokens)\n",
        "#Stopword removal (removing common words like \"the\", \"and\", etc.)\n",
        "#Stemming or Lemmatization (reducing words to their base form)\n",
        "#Part-of-speech tagging (identifying grammatical categories of each word)\n",
        "# Create a SparkSession with your test/train/validate data sets\n",
        "#spark = SparkSession.builder.appName(\"Aspect-Based Sentiment Analysis\").getOrCreate()\n",
        "\n",
        "# Load the training and validate datasets into DataFrames\n",
        "#train_df = spark.read.csv(\"path/to/train/dataset\", header=True, inferSchema=True)\n",
        "#val_df = spark.read.csv(\"path/to/val/dataset\", header=True, inferSchema=True)\n",
        "\n",
        "# Define a function to extract features from each column in the dataset\n",
        "def feature_extraction(df):\n",
        "    # Tokenization and stopword removal\n",
        "    df = df.select(\n",
        "        explode(col(\"text\").cast(\"string\")).alias(\"tokens\"),\n",
        "        explode(col(\"sentiment\").cast(\"string\")).alias(\"sentiment\")\n",
        "    )\n",
        "\n",
        "    # Stemming or Lemmatization\n",
        "    df = df.withColumn(\n",
        "        \"stemmed_tokens\",\n",
        "        df.tokens.map(lambda x: x.lower() if x.isnumeric() else x)  # Remove numbers and convert to lowercase\n",
        "    )\n",
        "\n",
        "    # Part-of-speech tagging (optional)\n",
        "    #df = df.withColumn(\"pos_tags\", explode(col(\"word\").cast(\"string\")).map(lambda x: {\"POS\": \"NNP\"} if x.isnumeric() else {\"POS\": \"NOUN\"})  # Example\n",
        "\n",
        "    return df"
      ]
    },
    {
      "cell_type": "code",
      "execution_count": null,
      "metadata": {
        "id": "XeoRym6BzNyR"
      },
      "outputs": [],
      "source": []
    },
    {
      "cell_type": "code",
      "execution_count": null,
      "metadata": {
        "id": "-idjLDxZGVL4"
      },
      "outputs": [],
      "source": [
        "from collections import Counter\n",
        "import matplotlib.pyplot as plt\n",
        "import pandas as pd\n",
        "\n",
        "#all_words = filtered_data.rdd.flatMap(lambda x: x.filtered_words).collect()\n",
        "all_words = filtered_data.select(\"filtered_words\").rdd.flatMap(lambda x: x.filtered_words).collect()\n",
        "word_counts = Counter(all_words)\n",
        "top_words = dict(word_counts.most_common(20))\n",
        "\n",
        "plt.figure(figsize=(12, 6))\n",
        "plt.bar(top_words.keys(), top_words.values())\n",
        "plt.xticks(rotation=45, ha='right')\n",
        "plt.xlabel(\"Words\")\n",
        "plt.ylabel(\"Frequency\")\n",
        "plt.title(\"Top 20 Word Frequency\")\n",
        "plt.tight_layout()\n",
        "plt.show()\n",
        "#2. TF-IDF Visualization:\n"
      ]
    },
    {
      "cell_type": "code",
      "execution_count": null,
      "metadata": {
        "id": "AAgDXRpaLYpC"
      },
      "outputs": [],
      "source": [
        "import seaborn as sns\n",
        "import pandas as pd\n",
        "\n",
        "# Extract only the binary category columns and sentiment\n",
        "category_columns = [col for col in train_pandas.columns if col.startswith('has_')]\n",
        "df_for_heatmap = train_pandas[category_columns + ['sentiment']]\n",
        "\n",
        "# Compute correlation matrix\n",
        "correlation_matrix = df_for_heatmap.corr()\n",
        "\n",
        "# Plot heatmap\n",
        "plt.figure(figsize=(10, 8))\n",
        "sns.heatmap(correlation_matrix, annot=True, cmap='coolwarm', fmt=\".2f\")\n",
        "plt.title('Aspect-Sentiment Correlation Heatmap')\n",
        "plt.show()"
      ]
    },
    {
      "cell_type": "code",
      "execution_count": null,
      "metadata": {
        "id": "X5ntO_-ZITfq"
      },
      "outputs": [],
      "source": [
        "\n",
        "#Chart: Heatmap or bar chart.\n",
        "#Purpose: Shows the TF-IDF scores for selected words across documents.\n",
        "#Implementation: After TF-IDF, convert the sparse vectors to dense arrays and plot the values.\n",
        "#Python\n",
        "\n",
        "import numpy as np\n",
        "import seaborn as sns\n",
        "\n",
        "# Assuming you have a few documents and words you want to visualize\n",
        "selected_docs = tfidf_data.take(5) #take the first 5 documents.\n",
        "selected_words = cv_model.vocabulary[:10] # take the first 10 vocabulary words.\n",
        "\n",
        "tfidf_matrix = np.zeros((len(selected_docs), len(selected_words)))\n",
        "\n",
        "for i, row in enumerate(selected_docs):\n",
        "    dense_features = row.features.toArray()\n",
        "    for j, word in enumerate(selected_words):\n",
        "        if word in cv_model.vocabulary:\n",
        "            word_index = cv_model.vocabulary.index(word)\n",
        "            tfidf_matrix[i,j] = dense_features[word_index]\n",
        "\n",
        "plt.figure(figsize=(12,8))\n",
        "sns.heatmap(tfidf_matrix, annot=True, xticklabels=selected_words)\n",
        "plt.xlabel(\"Selected Words\")\n",
        "plt.ylabel(\"Documents\")\n",
        "plt.title(\"TF-IDF Heatmap\")\n",
        "plt.show()\n",
        "\n",
        "#3. Model Evaluation Metrics:\n",
        "#\n",
        "#Charts: Confusion matrix, ROC curve, precision-recall curve.\n",
        "#Purpose: Shows the performance of the trained classification model.\n",
        "#Implementation: After training and predicting on the test set, use metrics like accuracy, precision, recall, F1-score, and create plots to visualize them.\n",
        "#Confusion Matrix: shows the number of correct and incorrect predictions for each class.\n",
        "#ROC Curve: shows the trade-off between true positive rate and false positive rate.\n",
        "#Precision-Recall Curve: shows the trade-off between precision and recall.\n",
        "#4. Document Length Distribution:#\n",
        "#\n",
        "#Chart: Histogram.\n",
        "#Purpose: Shows the distribution of the number of words in each document.\n",
        "#Implementation: Count the number of words in each document after tokenization.\n",
        "#Python#\n",
        "#\n",
        "doc_lengths = wordsData.rdd.map(lambda x: len(x.words)).collect()\n",
        "\n",
        "plt.figure(figsize=(8, 6))\n",
        "plt.hist(doc_lengths, bins=50)\n",
        "plt.xlabel(\"Document Length (Number of Words)\")\n",
        "plt.ylabel(\"Frequency\")\n",
        "plt.title(\"Document Length Distribution\")\n",
        "plt.show()"
      ]
    },
    {
      "cell_type": "code",
      "execution_count": null,
      "metadata": {
        "id": "-YdoY8B4lQQ6"
      },
      "outputs": [],
      "source": [
        "train_data.show(10)"
      ]
    },
    {
      "cell_type": "code",
      "execution_count": null,
      "metadata": {
        "id": "024iF0ZjFCon"
      },
      "outputs": [],
      "source": [
        "from pyspark.ml.classification import LinearSVC\n",
        "from pyspark.ml.evaluation import BinaryClassificationEvaluator, MulticlassClassificationEvaluator\n",
        "from pyspark.sql.functions import col\n",
        "\n",
        "# Function to train and evaluate an SVM model for one category\n",
        "def train_svm_for_category(category, train_data, test_data):\n",
        "    # Prepare label column name\n",
        "    label_col = f\"has_{category.replace('-', '_').replace('.', '_')}\"\n",
        "\n",
        "    # Create SVM model\n",
        "    svm = LinearSVC(featuresCol=\"features\", labelCol=label_col, maxIter=10)\n",
        "\n",
        "    # Train the model\n",
        "    model = svm.fit(train_data)\n",
        "\n",
        "    # Make predictions\n",
        "    predictions = model.transform(test_data)\n",
        "\n",
        "    # For binary classification metrics (precision, recall)\n",
        "    binary_evaluator = BinaryClassificationEvaluator(\n",
        "        labelCol=label_col, rawPredictionCol=\"rawPrediction\")\n",
        "\n",
        "    # For F1 score (use MulticlassClassificationEvaluator)\n",
        "    multi_evaluator = MulticlassClassificationEvaluator(\n",
        "        labelCol=label_col, predictionCol=\"prediction\", metricName=\"f1\")\n",
        "\n",
        "    # Calculate AUC (Area Under ROC)\n",
        "    auc = binary_evaluator.evaluate(predictions)\n",
        "\n",
        "    # Calculate F1\n",
        "    f1 = multi_evaluator.evaluate(predictions)\n",
        "\n",
        "    # Calculate precision and recall manually\n",
        "    # First, get true positives, false positives, true negatives, false negatives\n",
        "    tp = predictions.filter((col(label_col) == 1) & (col(\"prediction\") == 1)).count()\n",
        "    fp = predictions.filter((col(label_col) == 0) & (col(\"prediction\") == 1)).count()\n",
        "    fn = predictions.filter((col(label_col) == 1) & (col(\"prediction\") == 0)).count()\n",
        "\n",
        "    # Calculate precision and recall\n",
        "    precision = tp / (tp + fp) if (tp + fp) > 0 else 0\n",
        "    recall = tp / (tp + fn) if (tp + fn) > 0 else 0\n",
        "\n",
        "    return {\n",
        "        \"category\": category,\n",
        "        \"precision\": precision,\n",
        "        \"recall\": recall,\n",
        "        \"f1\": f1,\n",
        "        \"auc\": auc\n",
        "    }"
      ]
    },
    {
      "cell_type": "markdown",
      "metadata": {
        "id": "A9isoSjT1zSh"
      },
      "source": [
        "Models were running too slow. \\Caching the DataFrame during SVM training to avoid redundant data processing. Reducing the number of SVM iterations and limiting the dataset size for deep learning. Simplifying the LSTM and CNN architectures by reducing the number of units and filters. Lowering the number of epochs and silencing verbose outputs for faster training.\n",
        "\n",
        "Added visualizations to pipeline:\n",
        "\n",
        "LSTM Loss Over Epochs to show how the model improves during training.\n",
        "CNN Accuracy Over Epochs to track performance across epochs.\n",
        "\n"
      ]
    },
    {
      "cell_type": "code",
      "execution_count": null,
      "metadata": {
        "id": "ZhwcmnLmuzZF"
      },
      "outputs": [],
      "source": [
        "# ACD + ABSA Full Pipeline (SVM, LSTM, and CNN Models) - Optimized for Speed\n",
        "\n",
        "from pyspark.sql.functions import col, array_contains\n",
        "from pyspark.ml.feature import Tokenizer, HashingTF, IDF\n",
        "from pyspark.ml.classification import LinearSVC\n",
        "from tensorflow.keras.models import Sequential\n",
        "from tensorflow.keras.layers import LSTM, Dense, Dropout, Conv1D, GlobalMaxPooling1D\n",
        "import numpy as np\n",
        "import tensorflow as tf\n",
        "import matplotlib.pyplot as plt\n",
        "\n",
        "# Step 1: Aspect Category Detection (ACD) with Clean Column Names\n",
        "for aspect in all_categories:\n",
        "    clean_aspect = aspect.replace('-', '_').replace('.', '_')\n",
        "    df_with_categories = df_with_categories.withColumn(\n",
        "        f\"has_{clean_aspect}\", array_contains(col(\"categories\"), aspect).cast(\"integer\")\n",
        "    )\n",
        "\n",
        "# Step 2: ABSA (SVM Classifier for each Aspect) with Caching for Speed\n",
        "def train_absa_svm(aspect, df_with_categories):\n",
        "    clean_aspect = aspect.replace('-', '_').replace('.', '_')\n",
        "    aspect_df = df_with_categories.filter(col(f'has_{clean_aspect}') == 1).cache()\n",
        "\n",
        "    tokenizer = Tokenizer(inputCol=\"text\", outputCol=\"words\")\n",
        "    wordsData = tokenizer.transform(aspect_df)\n",
        "\n",
        "    hashingTF = HashingTF(inputCol=\"words\", outputCol=\"rawFeatures\")\n",
        "    featurizedData = hashingTF.transform(wordsData)\n",
        "\n",
        "    idf = IDF(inputCol=\"rawFeatures\", outputCol=\"features\")\n",
        "    tfidf_data = idf.fit(featurizedData).transform(featurizedData)\n",
        "\n",
        "    svm = LinearSVC(featuresCol=\"features\", labelCol=\"sentiment\", maxIter=5)  # Reduced iterations for speed\n",
        "    model = svm.fit(tfidf_data)\n",
        "\n",
        "    aspect_df.unpersist()\n",
        "    return model\n",
        "\n",
        "# Step 3: Convert to Pandas for Deep Learning\n",
        "train_pandas = train_data.limit(1000).toPandas()  # Limit data for speed\n",
        "test_pandas = test_data.limit(200).toPandas()\n",
        "\n",
        "# Convert sparse vector to numpy array\n",
        "def sparse_to_array(v):\n",
        "    return v.toArray() if hasattr(v, \"toArray\") else v\n",
        "\n",
        "train_pandas['features_array'] = train_pandas['features'].apply(sparse_to_array)\n",
        "test_pandas['features_array'] = test_pandas['features'].apply(sparse_to_array)\n",
        "\n",
        "# Step 4: LSTM Model for ABSA with Reduced Complexity\n",
        "X_train = np.stack(train_pandas['features_array'].values)\n",
        "y_train = train_pandas[label_cols].values\n",
        "\n",
        "X_test = np.stack(test_pandas['features_array'].values)\n",
        "y_test = test_pandas[label_cols].values\n",
        "\n",
        "lstm_model = Sequential([\n",
        "    LSTM(64, input_shape=(X_train.shape[1], 1), return_sequences=False),  # Reduced LSTM units\n",
        "    Dropout(0.2),\n",
        "    Dense(len(label_cols), activation='sigmoid')\n",
        "])\n",
        "\n",
        "lstm_model.compile(optimizer='adam', loss='binary_crossentropy', metrics=['accuracy'])\n",
        "history_lstm = lstm_model.fit(X_train, y_train, epochs=5, batch_size=32, verbose=0)  # Fewer epochs\n",
        "\n",
        "# Step 5: CNN Model for ABSA with Faster Conv1D\n",
        "cnn_model = Sequential([\n",
        "    Conv1D(32, 3, activation='relu', input_shape=(X_train.shape[1], 1)),  # Reduced filters\n",
        "    GlobalMaxPooling1D(),\n",
        "    Dense(len(label_cols), activation='sigmoid')\n",
        "])\n",
        "\n",
        "cnn_model.compile(optimizer='adam', loss='binary_crossentropy', metrics=['accuracy'])\n",
        "history_cnn = cnn_model.fit(X_train, y_train, epochs=5, batch_size=32, verbose=0)\n",
        "\n",
        "# Step 6: Compare Models\n",
        "svm_model = train_absa_svm(\"battery_life\", df_with_categories)\n",
        "\n",
        "print(\"SVM Model Trained\")\n",
        "print(\"LSTM Accuracy:\", lstm_model.evaluate(X_test, y_test, verbose=0))\n",
        "print(\"CNN Accuracy:\", cnn_model.evaluate(X_test, y_test, verbose=0))\n",
        "\n",
        "# Step 7: Visualizations\n",
        "plt.figure(figsize=(10, 5))\n",
        "\n",
        "# Plot LSTM Loss\n",
        "plt.subplot(1, 2, 1)\n",
        "plt.plot(history_lstm.history['loss'], label='LSTM Loss')\n",
        "plt.title('LSTM Loss Over Epochs')\n",
        "plt.xlabel('Epochs')\n",
        "plt.ylabel('Loss')\n",
        "plt.legend()\n",
        "\n",
        "# Plot CNN Accuracy\n",
        "plt.subplot(1, 2, 2)\n",
        "plt.plot(history_cnn.history['accuracy'], label='CNN Accuracy')\n",
        "plt.title('CNN Accuracy Over Epochs')\n",
        "plt.xlabel('Epochs')\n",
        "plt.ylabel('Accuracy')\n",
        "plt.legend()\n",
        "\n",
        "plt.tight_layout()\n",
        "plt.show()\n"
      ]
    },
    {
      "cell_type": "markdown",
      "metadata": {
        "id": "c9Z3_Jc1u1RR"
      },
      "source": [
        "THE END"
      ]
    },
    {
      "cell_type": "code",
      "execution_count": null,
      "metadata": {
        "id": "h-4eMTi81uzT"
      },
      "outputs": [],
      "source": [
        "# ACD + ABSA Full Pipeline (SVM, LSTM, and CNN Models) - Optimized for Speed\n",
        "\n",
        "from pyspark.sql.functions import col, array_contains\n",
        "from pyspark.ml.feature import Tokenizer, HashingTF, IDF\n",
        "from pyspark.ml.classification import LinearSVC\n",
        "from tensorflow.keras.models import Sequential\n",
        "from tensorflow.keras.layers import LSTM, Dense, Dropout, Conv1D, GlobalMaxPooling1D\n",
        "import numpy as np\n",
        "import tensorflow as tf\n",
        "import matplotlib.pyplot as plt\n",
        "\n",
        "# Step 1: Aspect Category Detection (ACD)\n",
        "for aspect in all_categories:\n",
        "    df_with_categories = df_with_categories.withColumn(\n",
        "        f\"has_{aspect}\", array_contains(col(\"categories\"), aspect).cast(\"integer\")\n",
        "    )\n",
        "\n",
        "# Step 2: ABSA (SVM Classifier for each Aspect) with Caching for Speed\n",
        "def train_absa_svm(aspect, df_with_categories):\n",
        "    aspect_df = df_with_categories.filter(col(f'has_{aspect}') == 1).cache()\n",
        "\n",
        "    tokenizer = Tokenizer(inputCol=\"text\", outputCol=\"words\")\n",
        "    wordsData = tokenizer.transform(aspect_df)\n",
        "\n",
        "    hashingTF = HashingTF(inputCol=\"words\", outputCol=\"rawFeatures\")\n",
        "    featurizedData = hashingTF.transform(wordsData)\n",
        "\n",
        "    idf = IDF(inputCol=\"rawFeatures\", outputCol=\"features\")\n",
        "    tfidf_data = idf.fit(featurizedData).transform(featurizedData)\n",
        "\n",
        "    svm = LinearSVC(featuresCol=\"features\", labelCol=\"sentiment\", maxIter=5)  # Reduced iterations for speed\n",
        "    model = svm.fit(tfidf_data)\n",
        "\n",
        "    aspect_df.unpersist()\n",
        "    return model\n",
        "\n",
        "# Step 3: Convert to Pandas for Deep Learning\n",
        "train_pandas = train_data.limit(1000).toPandas()  # Limit data for speed\n",
        "test_pandas = test_data.limit(200).toPandas()\n",
        "\n",
        "# Convert sparse vector to numpy array\n",
        "def sparse_to_array(v):\n",
        "    return v.toArray() if hasattr(v, \"toArray\") else v\n",
        "\n",
        "train_pandas['features_array'] = train_pandas['features'].apply(sparse_to_array)\n",
        "test_pandas['features_array'] = test_pandas['features'].apply(sparse_to_array)\n",
        "\n",
        "# Step 4: LSTM Model for ABSA with Reduced Complexity\n",
        "X_train = np.stack(train_pandas['features_array'].values)\n",
        "y_train = train_pandas[label_cols].values\n",
        "\n",
        "X_test = np.stack(test_pandas['features_array'].values)\n",
        "y_test = test_pandas[label_cols].values\n",
        "\n",
        "lstm_model = Sequential([\n",
        "    LSTM(64, input_shape=(X_train.shape[1], 1), return_sequences=False),  # Reduced LSTM units\n",
        "    Dropout(0.2),\n",
        "    Dense(len(label_cols), activation='sigmoid')\n",
        "])\n",
        "\n",
        "lstm_model.compile(optimizer='adam', loss='binary_crossentropy', metrics=['accuracy'])\n",
        "history_lstm = lstm_model.fit(X_train, y_train, epochs=5, batch_size=32, verbose=0)  # Fewer epochs\n",
        "\n",
        "# Step 5: CNN Model for ABSA with Faster Conv1D\n",
        "cnn_model = Sequential([\n",
        "    Conv1D(32, 3, activation='relu', input_shape=(X_train.shape[1], 1)),  # Reduced filters\n",
        "    GlobalMaxPooling1D(),\n",
        "    Dense(len(label_cols), activation='sigmoid')\n",
        "])\n",
        "\n",
        "cnn_model.compile(optimizer='adam', loss='binary_crossentropy', metrics=['accuracy'])\n",
        "history_cnn = cnn_model.fit(X_train, y_train, epochs=5, batch_size=32, verbose=0)\n",
        "\n",
        "# Step 6: Compare Models\n",
        "svm_model = train_absa_svm(\"battery-life\", df_with_categories)\n",
        "\n",
        "print(\"SVM Model Trained\")\n",
        "print(\"LSTM Accuracy:\", lstm_model.evaluate(X_test, y_test, verbose=0))\n",
        "print(\"CNN Accuracy:\", cnn_model.evaluate(X_test, y_test, verbose=0))\n",
        "\n",
        "# Step 7: Visualizations\n",
        "plt.figure(figsize=(10, 5))\n",
        "\n",
        "# Plot LSTM Loss\n",
        "plt.subplot(1, 2, 1)\n",
        "plt.plot(history_lstm.history['loss'], label='LSTM Loss')\n",
        "plt.title('LSTM Loss Over Epochs')\n",
        "plt.xlabel('Epochs')\n",
        "plt.ylabel('Loss')\n",
        "plt.legend()\n",
        "\n",
        "# Plot CNN Accuracy\n",
        "plt.subplot(1, 2, 2)\n",
        "plt.plot(history_cnn.history['accuracy'], label='CNN Accuracy')\n",
        "plt.title('CNN Accuracy Over Epochs')\n",
        "plt.xlabel('Epochs')\n",
        "plt.ylabel('Accuracy')\n",
        "plt.legend()\n",
        "\n",
        "plt.tight_layout()\n",
        "plt.show()\n"
      ]
    },
    {
      "cell_type": "markdown",
      "metadata": {
        "id": "OIDyy3yc2TtN"
      },
      "source": [
        "Additional charts, such as confusion matrices or precision-recall curves.\n"
      ]
    },
    {
      "cell_type": "code",
      "execution_count": null,
      "metadata": {
        "id": "Ltf8M5Oc2S-7"
      },
      "outputs": [],
      "source": []
    },
    {
      "cell_type": "markdown",
      "metadata": {
        "id": "QqRJCneG1a21"
      },
      "source": [
        "Models were running too slow.\n",
        "\\Caching the DataFrame during SVM training to avoid redundant data processing.\n",
        "Reducing the number of SVM iterations and limiting the dataset size for deep learning.\n",
        "Simplifying the LSTM and CNN architectures by reducing the number of units and filters.\n",
        "Lowering the number of epochs and silencing verbose outputs for faster training."
      ]
    },
    {
      "cell_type": "code",
      "execution_count": null,
      "metadata": {
        "id": "DNmIWqJYF47I"
      },
      "outputs": [],
      "source": [
        "# Convert Spark DataFrame to Pandas for deep learning\n",
        "# Collect the data (be careful with large datasets)\n",
        "train_pandas = train_data.toPandas()\n",
        "test_pandas = test_data.toPandas()\n",
        "\n",
        "# We need to convert the sparse vector features to numpy arrays\n",
        "from pyspark.ml.linalg import SparseVector\n",
        "\n",
        "def sparse_to_array(sparse_vector):\n",
        "    return sparse_vector.toArray() if isinstance(sparse_vector, SparseVector) else sparse_vector\n",
        "\n",
        "# Convert features to numpy arrays\n",
        "train_pandas['features_array'] = train_pandas['features'].apply(sparse_to_array)\n",
        "test_pandas['features_array'] = test_pandas['features'].apply(sparse_to_array)\n",
        "\n",
        "# Prepare X (features) and y (labels) for training\n",
        "X_train = np.stack(train_pandas['features_array'].values)\n",
        "X_test = np.stack(test_pandas['features_array'].values)\n",
        "\n",
        "# Get all label columns\n",
        "label_cols = [col for col in train_pandas.columns if col.startswith('has_')]\n",
        "y_train = train_pandas[label_cols].values\n",
        "y_test = test_pandas[label_cols].values\n",
        "\n",
        "# Now build a deep learning model\n",
        "import tensorflow as tf\n",
        "from tensorflow.keras.models import Sequential\n",
        "from tensorflow.keras.layers import Dense, Dropout\n",
        "\n",
        "# Define model architecture\n",
        "model = Sequential([\n",
        "    Dense(128, activation='relu', input_shape=(X_train.shape[1],)),\n",
        "    Dropout(0.3),\n",
        "    Dense(64, activation='relu'),\n",
        "    Dropout(0.3),\n",
        "    Dense(len(label_cols), activation='sigmoid')\n",
        "])\n",
        "\n",
        "# Compile model\n",
        "model.compile(\n",
        "    optimizer='adam',\n",
        "    loss='binary_crossentropy',\n",
        "    metrics=['accuracy', tf.keras.metrics.Precision(), tf.keras.metrics.Recall()]\n",
        ")\n",
        "\n",
        "# Train model\n",
        "history = model.fit(\n",
        "    X_train, y_train,\n",
        "    validation_split=0.2,\n",
        "    epochs=10,\n",
        "    batch_size=32\n",
        ")\n",
        "\n",
        "# Evaluate on test set\n",
        "results = model.evaluate(X_test, y_test)\n",
        "print(f\"Test Loss: {results[0]}\")\n",
        "print(f\"Test Accuracy: {results[1]}\")\n",
        "print(f\"Test Precision: {results[2]}\")\n",
        "print(f\"Test Recall: {results[3]}\")\n",
        "\n",
        "# Make predictions\n",
        "y_pred = model.predict(X_test)\n",
        "y_pred_binary = (y_pred > 0.5).astype(int)\n",
        "\n",
        "# Calculate F1 score manually\n",
        "from sklearn.metrics import f1_score, precision_score, recall_score\n",
        "precision = precision_score(y_test, y_pred_binary, average='micro')\n",
        "recall = recall_score(y_test, y_pred_binary, average='micro')\n",
        "f1 = f1_score(y_test, y_pred_binary, average='micro')\n",
        "\n",
        "print(f\"Precision: {precision}\")\n",
        "print(f\"Recall: {recall}\")\n",
        "print(f\"F1 Score: {f1}\")"
      ]
    },
    {
      "cell_type": "markdown",
      "metadata": {
        "id": "onEAObLs1M6Y"
      },
      "source": [
        "END WORKING *AREA*\n"
      ]
    },
    {
      "cell_type": "code",
      "execution_count": null,
      "metadata": {
        "id": "5I0GaU5Umj0E"
      },
      "outputs": [],
      "source": [
        "from pyspark.ml.classification import LinearSVC\n",
        "from pyspark.ml.evaluation import MulticlassClassificationEvaluator\n",
        "from pyspark.ml import Pipeline\n",
        "from pyspark.ml.feature import VectorAssembler\n",
        "\n",
        "\n",
        "# For simplicity, let's implement a binary classification model for each category\n",
        "# In practice, you might want to use a multi-label approach\n",
        "\n",
        "# Function to train and evaluate an SVM model for one category\n",
        "def train_svm_for_category(category, train_data, test_data):\n",
        "    # Prepare label column name\n",
        "    label_col = f\"has_{category.replace('-', '_').replace('.', '_')}\"\n",
        "\n",
        "    # Create SVM model\n",
        "    svm = LinearSVC(featuresCol=\"features\", labelCol=label_col, maxIter=10)\n",
        "\n",
        "    # Train the model\n",
        "    model = svm.fit(train_data)\n",
        "\n",
        "    # Make predictions\n",
        "    predictions = model.transform(test_data)\n",
        "\n",
        "    # Evaluate model\n",
        "   # evaluator = MulticlassClassificationEvaluator(\n",
        "   #     labelCol=label_col, predictionCol=\"prediction\", metricName=\"f1\")\n",
        "   # f1 = evaluator.evaluate(predictions)\n",
        "    #\n",
        "    evaluator = MulticlassClassificationEvaluator(labelCol=label_col,\n",
        "                                              predictionCol=\"prediction\",\n",
        "                                              metricName=\"weightedPrecision\")\n",
        "precision = evaluator.evaluate(predictions)\n",
        "print(\"Weighted Precision:\", precision)\n",
        "    evaluator.setMetricName(\"precision\")\n",
        "    precision = evaluator.evaluate(predictions)\n",
        "\n",
        "    evaluator.setMetricName(\"recall\")\n",
        "    recall = evaluator.evaluate(predictions)\n",
        "\n",
        "    return {\"category\": category, \"precision\": precision, \"recall\": recall, \"f1\": f1}\n",
        "\n",
        "# Train models for all categories\n",
        "svm_results = []\n",
        "for category in all_categories:\n",
        "    result = train_svm_for_category(category, train_data, test_data)\n",
        "    svm_results.append(result)\n",
        "\n",
        "# Print results\n",
        "svm_results_df = spark.createDataFrame(svm_results)\n",
        "svm_results_df.show()"
      ]
    },
    {
      "cell_type": "code",
      "execution_count": null,
      "metadata": {
        "id": "pjwA9QxfmIkK"
      },
      "outputs": [],
      "source": [
        "print(\"Training SVM models for all categories...\")\n",
        "svm_results = []\n",
        "for category in all_categories:\n",
        "    try:\n",
        "        result = train_svm_for_category(category, train_data, test_data)\n",
        "        svm_results.append(result)\n",
        "        print(f\"Completed category: {category}\")\n",
        "    except Exception as e:\n",
        "        print(f\"Error processing category {category}: {str(e)}\")\n",
        "\n",
        "# Create a dataframe with results\n",
        "svm_results_df = spark.createDataFrame(svm_results)\n",
        "print(\"SVM Results:\")\n",
        "svm_results_df.show()\n",
        "\n",
        "# Calculate average metrics\n",
        "avg_precision = np.mean([r[\"precision\"] for r in svm_results])\n",
        "avg_recall = np.mean([r[\"recall\"] for r in svm_results])\n",
        "avg_f1 = np.mean([r[\"f1\"] for r in svm_results])\n",
        "\n",
        "print(f\"Average Precision: {avg_precision:.4f}\")\n",
        "print(f\"Average Recall: {avg_recall:.4f}\")\n",
        "print(f\"Average F1: {avg_f1:.4f}\")\n",
        "\n",
        "# Convert to pandas DataFrame for deep learning model\n",
        "# We'll process a subset of records to handle memory constraints\n",
        "# For a real model, you might want to use a data loader or mini-batches\n",
        "print(\"Preparing data for deep learning model...\")\n",
        "train_pandas = train_data.limit(1000).toPandas()  # Limit to 1000 samples for demonstration\n",
        "test_pandas = test_data.limit(200).toPandas()\n",
        "\n",
        "# Function to convert sparse vector to array\n",
        "def sparse_to_array(v):\n",
        "    if hasattr(v, 'toArray'):\n",
        "        return v.toArray()\n",
        "    return v\n",
        "\n",
        "# Apply conversion function\n",
        "train_pandas['features_array'] = train_pandas['features'].apply(sparse_to_array)\n",
        "test_pandas['features_array'] = test_pandas['features'].apply(sparse_to_array)\n",
        "\n",
        "# Stack features into numpy arrays\n",
        "X_train = np.stack(train_pandas['features_array'].values)\n",
        "X_test = np.stack(test_pandas['features_array'].values)\n",
        "\n",
        "# Extract labels\n",
        "y_train = train_pandas[feature_cols].values\n",
        "y_test = test_pandas[feature_cols].values\n",
        "\n",
        "print(\"Data preparation for deep learning complete!\")"
      ]
    },
    {
      "cell_type": "code",
      "execution_count": null,
      "metadata": {
        "id": "qQZ0jSpGKD9d"
      },
      "outputs": [],
      "source": [
        "# Train models for all categories\n",
        "svm_results = []\n",
        "for category in all_categories:\n",
        "   # result = train_svm_for_category(category, train_data, test_data)\n",
        "    result = train_svm_for_category(category, train_data, test_data)\n",
        "    svm_results.append(result)\n",
        "\n",
        "# Print results\n",
        "svm_results_df = spark.createDataFrame(svm_results)\n",
        "svm_results_df.show()"
      ]
    },
    {
      "cell_type": "markdown",
      "metadata": {
        "id": "lLr-hMhUwTP9"
      },
      "source": [
        "Speeded up version"
      ]
    },
    {
      "cell_type": "code",
      "execution_count": null,
      "metadata": {
        "id": "aQuL0YIJwPjO"
      },
      "outputs": [],
      "source": [
        "# ACD + ABSA Full Pipeline (SVM, LSTM, and CNN Models) - Optimized for Speed\n",
        "\n",
        "from pyspark.sql.functions import col, array_contains\n",
        "from pyspark.ml.feature import Tokenizer, HashingTF, IDF\n",
        "from pyspark.ml.classification import LinearSVC\n",
        "from tensorflow.keras.models import Sequential\n",
        "from tensorflow.keras.layers import LSTM, Dense, Dropout, Conv1D, GlobalMaxPooling1D\n",
        "import numpy as np\n",
        "import tensorflow as tf\n",
        "\n",
        "# Step 1: Aspect Category Detection (ACD) - Clean column names\n",
        "for aspect in all_categories:\n",
        "    clean_aspect = aspect.replace('-', '_').replace('.', '_')\n",
        "    df_with_categories = df_with_categories.withColumn(\n",
        "        f\"has_{clean_aspect}\", array_contains(col(\"categories\"), aspect).cast(\"integer\")\n",
        "    )\n",
        "\n",
        "## Step 1: Aspect Category Detection (ACD)\n",
        "#for aspect in all_categories:\n",
        "#    df_with_categories = df_with_categories.withColumn(\n",
        "#        f\"has_{aspect}\", array_contains(col(\"categories\"), aspect).cast(\"integer\")\n",
        "#    )\n",
        "#\n",
        "#\n",
        "## Step 2: ABSA (SVM Classifier for each Aspect) with Caching for Speed\n",
        "#def train_absa_svm(aspect, df_with_categories):\n",
        "#    aspect_df = df_with_categories.filter(col(f'has_{aspect}') == 1).cache()\n",
        "#\n",
        "\n",
        "# Step 2: Adjust the SVM Function to Use the Clean Column Name\n",
        "def train_absa_svm(aspect, df_with_categories):\n",
        "    clean_aspect = aspect.replace('-', '_').replace('.', '_')\n",
        "    aspect_df = df_with_categories.filter(col(f'has_{clean_aspect}') == 1).cache()\n",
        "\n",
        "\n",
        "    tokenizer = Tokenizer(inputCol=\"text\", outputCol=\"words\")\n",
        "    wordsData = tokenizer.transform(aspect_df)\n",
        "\n",
        "    hashingTF = HashingTF(inputCol=\"words\", outputCol=\"rawFeatures\")\n",
        "    featurizedData = hashingTF.transform(wordsData)\n",
        "\n",
        "    idf = IDF(inputCol=\"rawFeatures\", outputCol=\"features\")\n",
        "    tfidf_data = idf.fit(featurizedData).transform(featurizedData)\n",
        "\n",
        "    svm = LinearSVC(featuresCol=\"features\", labelCol=\"sentiment\", maxIter=5)  # Reduced iterations for speed\n",
        "    model = svm.fit(tfidf_data)\n",
        "\n",
        "    aspect_df.unpersist()\n",
        "    return model\n",
        "\n",
        "# Step 3: Convert to Pandas for Deep Learning\n",
        "train_pandas = train_data.limit(1000).toPandas()  # Limit data for speed\n",
        "test_pandas = test_data.limit(200).toPandas()\n",
        "\n",
        "# Convert sparse vector to numpy array\n",
        "def sparse_to_array(v):\n",
        "    return v.toArray() if hasattr(v, \"toArray\") else v\n",
        "\n",
        "train_pandas['features_array'] = train_pandas['features'].apply(sparse_to_array)\n",
        "test_pandas['features_array'] = test_pandas['features'].apply(sparse_to_array)\n",
        "\n",
        "# Step 4: LSTM Model for ABSA with Reduced Complexity\n",
        "X_train = np.stack(train_pandas['features_array'].values)\n",
        "y_train = train_pandas[label_cols].values\n",
        "\n",
        "X_test = np.stack(test_pandas['features_array'].values)\n",
        "y_test = test_pandas[label_cols].values\n",
        "\n",
        "lstm_model = Sequential([\n",
        "    LSTM(64, input_shape=(X_train.shape[1], 1), return_sequences=False),  # Reduced LSTM units\n",
        "    Dropout(0.2),\n",
        "    Dense(len(label_cols), activation='sigmoid')\n",
        "])\n",
        "\n",
        "lstm_model.compile(optimizer='adam', loss='binary_crossentropy', metrics=['accuracy'])\n",
        "lstm_model.fit(X_train, y_train, epochs=5, batch_size=32, verbose=0)  # Fewer epochs\n",
        "\n",
        "# Step 5: CNN Model for ABSA with Faster Conv1D\n",
        "cnn_model = Sequential([\n",
        "    Conv1D(32, 3, activation='relu', input_shape=(X_train.shape[1], 1)),  # Reduced filters\n",
        "    GlobalMaxPooling1D(),\n",
        "    Dense(len(label_cols), activation='sigmoid')\n",
        "])\n",
        "\n",
        "cnn_model.compile(optimizer='adam', loss='binary_crossentropy', metrics=['accuracy'])\n",
        "cnn_model.fit(X_train, y_train, epochs=5, batch_size=32, verbose=0)\n",
        "\n",
        "# Step 6: Compare Models\n",
        "svm_model = train_absa_svm(\"battery-life\", df_with_categories)\n",
        "\n",
        "print(\"SVM Model Trained\")\n",
        "print(\"LSTM Accuracy:\", lstm_model.evaluate(X_test, y_test, verbose=0))\n",
        "print(\"CNN Accuracy:\", cnn_model.evaluate(X_test, y_test, verbose=0))"
      ]
    },
    {
      "cell_type": "markdown",
      "metadata": {
        "id": "fuP_tJHBwQaw"
      },
      "source": [
        "Very slow version"
      ]
    },
    {
      "cell_type": "code",
      "execution_count": null,
      "metadata": {
        "id": "kOVK6q_eKHHt"
      },
      "outputs": [],
      "source": [
        " #ACD + ABSA Full Pipeline (SVM, LSTM, and CNN Models)\n",
        "\n",
        "from pyspark.sql.functions import col, array_contains\n",
        "from pyspark.ml.feature import Tokenizer, HashingTF, IDF\n",
        "from pyspark.ml.classification import LinearSVC\n",
        "from tensorflow.keras.models import Sequential\n",
        "from tensorflow.keras.layers import LSTM, Dense, Dropout, Conv1D, GlobalMaxPooling1D\n",
        "import numpy as np\n",
        "import tensorflow as tf\n",
        "\n",
        "# Step 1: Aspect Category Detection (ACD)\n",
        "# Binary indicator columns for each aspect\n",
        "for aspect in all_categories:\n",
        "    df_with_categories = df_with_categories.withColumn(\n",
        "        f\"has_{aspect}\", array_contains(col(\"categories\"), aspect).cast(\"integer\")\n",
        "    )\n",
        "\n",
        "# Step 2: ABSA (SVM Classifier for each Aspect)\n",
        "def train_absa_svm(aspect, df_with_categories):\n",
        "    aspect_df = df_with_categories.filter(col(f'has_{aspect}') == 1)\n",
        "\n",
        "    tokenizer = Tokenizer(inputCol=\"text\", outputCol=\"words\")\n",
        "    wordsData = tokenizer.transform(aspect_df)\n",
        "\n",
        "    hashingTF = HashingTF(inputCol=\"words\", outputCol=\"rawFeatures\")\n",
        "    featurizedData = hashingTF.transform(wordsData)\n",
        "\n",
        "    idf = IDF(inputCol=\"rawFeatures\", outputCol=\"features\")\n",
        "    tfidf_data = idf.fit(featurizedData).transform(featurizedData)\n",
        "\n",
        "    svm = LinearSVC(featuresCol=\"features\", labelCol=\"sentiment\", maxIter=10)\n",
        "    model = svm.fit(tfidf_data)\n",
        "    return model\n",
        "\n",
        "# Step 3: Convert to Pandas for Deep Learning\n",
        "train_pandas = train_data.toPandas()\n",
        "test_pandas = test_data.toPandas()\n",
        "\n",
        "# Convert sparse vector to numpy array\n",
        "def sparse_to_array(v):\n",
        "    return v.toArray() if hasattr(v, \"toArray\") else v\n",
        "\n",
        "train_pandas['features_array'] = train_pandas['features'].apply(sparse_to_array)\n",
        "test_pandas['features_array'] = test_pandas['features'].apply(sparse_to_array)\n",
        "\n",
        "# Step 4: LSTM Model for ABSA\n",
        "X_train = np.stack(train_pandas['features_array'].values)\n",
        "y_train = train_pandas[label_cols].values\n",
        "\n",
        "X_test = np.stack(test_pandas['features_array'].values)\n",
        "y_test = test_pandas[label_cols].values\n",
        "\n",
        "lstm_model = Sequential([\n",
        "    LSTM(128, return_sequences=True, input_shape=(X_train.shape[1], 1)),\n",
        "    Dropout(0.2),\n",
        "    LSTM(64),\n",
        "    Dense(len(label_cols), activation='sigmoid')\n",
        "])\n",
        "\n",
        "lstm_model.compile(optimizer='adam', loss='binary_crossentropy', metrics=['accuracy'])\n",
        "lstm_model.fit(X_train, y_train, epochs=10, batch_size=32)\n",
        "\n",
        "# Step 5: CNN Model for ABSA\n",
        "cnn_model = Sequential([\n",
        "    Conv1D(64, 3, activation='relu', input_shape=(X_train.shape[1], 1)),\n",
        "    GlobalMaxPooling1D(),\n",
        "    Dense(64, activation='relu'),\n",
        "    Dense(len(label_cols), activation='sigmoid')\n",
        "])\n",
        "\n",
        "cnn_model.compile(optimizer='adam', loss='binary_crossentropy', metrics=['accuracy'])\n",
        "cnn_model.fit(X_train, y_train, epochs=10, batch_size=32)\n",
        "\n",
        "# Step 6: Compare SVM, LSTM, and CNN Models\n",
        "svm_model = train_absa_svm(\"battery-life\", df_with_categories)\n",
        "\n",
        "print(\"SVM Model Trained\")\n",
        "print(\"LSTM Accuracy:\", lstm_model.evaluate(X_test, y_test))\n",
        "print(\"CNN Accuracy:\", cnn_model.evaluate(X_test, y_test))\n"
      ]
    },
    {
      "cell_type": "code",
      "execution_count": null,
      "metadata": {
        "id": "-Z6G2T8CNNuW"
      },
      "outputs": [],
      "source": [
        "#Old version of file loading into pandas\n"
      ]
    },
    {
      "cell_type": "code",
      "execution_count": null,
      "metadata": {
        "id": "q8zGv69MPmIV"
      },
      "outputs": [],
      "source": [
        "import pyarrow.parquet as pq\n",
        "\n",
        "# Try with pyarrow first to validate the file\n",
        "try:\n",
        "    dfp_train = pq.read_table(parquet_train_file)\n",
        "    dfp_test = pq.read_table(parquet_train_file)\n",
        "    dfp_validation = pq.read_table(parquet_validation_file)\n",
        "    print(\"File can be read with pyarrow\")\n",
        "except Exception as e:\n",
        "    print(f\"Pyarrow error: {e}\")"
      ]
    }
  ],
  "metadata": {
    "colab": {
      "provenance": [],
      "mount_file_id": "1voaoCRx-Q57JjM1dgoUIz8tAreSpqKkK",
      "authorship_tag": "ABX9TyNUKAKvfp0Y3PpK5yadJHN0",
      "include_colab_link": true
    },
    "kernelspec": {
      "display_name": "Python 3",
      "name": "python3"
    },
    "language_info": {
      "name": "python"
    }
  },
  "nbformat": 4,
  "nbformat_minor": 0
}